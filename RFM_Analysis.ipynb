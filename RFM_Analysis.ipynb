{
 "cells": [
  {
   "cell_type": "code",
   "execution_count": 44,
   "id": "8c955b92",
   "metadata": {},
   "outputs": [
    {
     "data": {
      "application/vnd.microsoft.datawrangler.viewer.v0+json": {
       "columns": [
        {
         "name": "index",
         "rawType": "int64",
         "type": "integer"
        },
        {
         "name": "CustomerID",
         "rawType": "int64",
         "type": "integer"
        },
        {
         "name": "PurchaseDate",
         "rawType": "object",
         "type": "string"
        },
        {
         "name": "TransactionAmount",
         "rawType": "float64",
         "type": "float"
        },
        {
         "name": "ProductInformation",
         "rawType": "object",
         "type": "string"
        },
        {
         "name": "OrderID",
         "rawType": "int64",
         "type": "integer"
        },
        {
         "name": "Location",
         "rawType": "object",
         "type": "string"
        }
       ],
       "conversionMethod": "pd.DataFrame",
       "ref": "b87f85d2-bc7c-4021-8ea0-2c04e4a3826d",
       "rows": [
        [
         "0",
         "8814",
         "2023-04-11",
         "943.31",
         "Product C",
         "890075",
         "Tokyo"
        ],
        [
         "1",
         "2188",
         "2023-04-11",
         "463.7",
         "Product A",
         "176819",
         "London"
        ],
        [
         "2",
         "4608",
         "2023-04-11",
         "80.28",
         "Product A",
         "340062",
         "New York"
        ],
        [
         "3",
         "2559",
         "2023-04-11",
         "221.29",
         "Product A",
         "239145",
         "London"
        ],
        [
         "4",
         "9482",
         "2023-04-11",
         "739.56",
         "Product A",
         "194545",
         "Paris"
        ]
       ],
       "shape": {
        "columns": 6,
        "rows": 5
       }
      },
      "text/html": [
       "<div>\n",
       "<style scoped>\n",
       "    .dataframe tbody tr th:only-of-type {\n",
       "        vertical-align: middle;\n",
       "    }\n",
       "\n",
       "    .dataframe tbody tr th {\n",
       "        vertical-align: top;\n",
       "    }\n",
       "\n",
       "    .dataframe thead th {\n",
       "        text-align: right;\n",
       "    }\n",
       "</style>\n",
       "<table border=\"1\" class=\"dataframe\">\n",
       "  <thead>\n",
       "    <tr style=\"text-align: right;\">\n",
       "      <th></th>\n",
       "      <th>CustomerID</th>\n",
       "      <th>PurchaseDate</th>\n",
       "      <th>TransactionAmount</th>\n",
       "      <th>ProductInformation</th>\n",
       "      <th>OrderID</th>\n",
       "      <th>Location</th>\n",
       "    </tr>\n",
       "  </thead>\n",
       "  <tbody>\n",
       "    <tr>\n",
       "      <th>0</th>\n",
       "      <td>8814</td>\n",
       "      <td>2023-04-11</td>\n",
       "      <td>943.31</td>\n",
       "      <td>Product C</td>\n",
       "      <td>890075</td>\n",
       "      <td>Tokyo</td>\n",
       "    </tr>\n",
       "    <tr>\n",
       "      <th>1</th>\n",
       "      <td>2188</td>\n",
       "      <td>2023-04-11</td>\n",
       "      <td>463.70</td>\n",
       "      <td>Product A</td>\n",
       "      <td>176819</td>\n",
       "      <td>London</td>\n",
       "    </tr>\n",
       "    <tr>\n",
       "      <th>2</th>\n",
       "      <td>4608</td>\n",
       "      <td>2023-04-11</td>\n",
       "      <td>80.28</td>\n",
       "      <td>Product A</td>\n",
       "      <td>340062</td>\n",
       "      <td>New York</td>\n",
       "    </tr>\n",
       "    <tr>\n",
       "      <th>3</th>\n",
       "      <td>2559</td>\n",
       "      <td>2023-04-11</td>\n",
       "      <td>221.29</td>\n",
       "      <td>Product A</td>\n",
       "      <td>239145</td>\n",
       "      <td>London</td>\n",
       "    </tr>\n",
       "    <tr>\n",
       "      <th>4</th>\n",
       "      <td>9482</td>\n",
       "      <td>2023-04-11</td>\n",
       "      <td>739.56</td>\n",
       "      <td>Product A</td>\n",
       "      <td>194545</td>\n",
       "      <td>Paris</td>\n",
       "    </tr>\n",
       "  </tbody>\n",
       "</table>\n",
       "</div>"
      ],
      "text/plain": [
       "   CustomerID PurchaseDate  TransactionAmount ProductInformation  OrderID  \\\n",
       "0        8814   2023-04-11             943.31          Product C   890075   \n",
       "1        2188   2023-04-11             463.70          Product A   176819   \n",
       "2        4608   2023-04-11              80.28          Product A   340062   \n",
       "3        2559   2023-04-11             221.29          Product A   239145   \n",
       "4        9482   2023-04-11             739.56          Product A   194545   \n",
       "\n",
       "   Location  \n",
       "0     Tokyo  \n",
       "1    London  \n",
       "2  New York  \n",
       "3    London  \n",
       "4     Paris  "
      ]
     },
     "execution_count": 44,
     "metadata": {},
     "output_type": "execute_result"
    }
   ],
   "source": [
    "import pandas as pd\n",
    "import numpy as np\n",
    "import matplotlib.pyplot as plt\n",
    "import seaborn as sns\n",
    "from matplotlib.ticker import FuncFormatter\n",
    "\n",
    "import warnings\n",
    "warnings.filterwarnings(\"ignore\")\n",
    "\n",
    "df = pd.read_csv(r'C:\\Users\\Mohamed Fawzi\\Desktop\\RFM Analysis\\rfm_data.csv')\n",
    "df.head()"
   ]
  },
  {
   "cell_type": "markdown",
   "id": "d4fc1da5",
   "metadata": {},
   "source": [
    "### Preparing Data"
   ]
  },
  {
   "cell_type": "code",
   "execution_count": 45,
   "id": "6bf61256",
   "metadata": {},
   "outputs": [
    {
     "data": {
      "application/vnd.microsoft.datawrangler.viewer.v0+json": {
       "columns": [
        {
         "name": "index",
         "rawType": "int64",
         "type": "integer"
        },
        {
         "name": "CustomerID",
         "rawType": "object",
         "type": "string"
        },
        {
         "name": "PurchaseDate",
         "rawType": "datetime64[ns]",
         "type": "datetime"
        },
        {
         "name": "TransactionAmount",
         "rawType": "float64",
         "type": "float"
        },
        {
         "name": "ProductInformation",
         "rawType": "object",
         "type": "string"
        },
        {
         "name": "OrderID",
         "rawType": "int64",
         "type": "integer"
        },
        {
         "name": "Location",
         "rawType": "object",
         "type": "string"
        }
       ],
       "conversionMethod": "pd.DataFrame",
       "ref": "52712ca4-b73e-4d7a-8ada-71acd2c95d75",
       "rows": [
        [
         "0",
         "8814",
         "2023-04-11 00:00:00",
         "943.31",
         "Product C",
         "890075",
         "Tokyo"
        ],
        [
         "1",
         "2188",
         "2023-04-11 00:00:00",
         "463.7",
         "Product A",
         "176819",
         "London"
        ],
        [
         "2",
         "4608",
         "2023-04-11 00:00:00",
         "80.28",
         "Product A",
         "340062",
         "New York"
        ],
        [
         "3",
         "2559",
         "2023-04-11 00:00:00",
         "221.29",
         "Product A",
         "239145",
         "London"
        ],
        [
         "4",
         "9482",
         "2023-04-11 00:00:00",
         "739.56",
         "Product A",
         "194545",
         "Paris"
        ]
       ],
       "shape": {
        "columns": 6,
        "rows": 5
       }
      },
      "text/html": [
       "<div>\n",
       "<style scoped>\n",
       "    .dataframe tbody tr th:only-of-type {\n",
       "        vertical-align: middle;\n",
       "    }\n",
       "\n",
       "    .dataframe tbody tr th {\n",
       "        vertical-align: top;\n",
       "    }\n",
       "\n",
       "    .dataframe thead th {\n",
       "        text-align: right;\n",
       "    }\n",
       "</style>\n",
       "<table border=\"1\" class=\"dataframe\">\n",
       "  <thead>\n",
       "    <tr style=\"text-align: right;\">\n",
       "      <th></th>\n",
       "      <th>CustomerID</th>\n",
       "      <th>PurchaseDate</th>\n",
       "      <th>TransactionAmount</th>\n",
       "      <th>ProductInformation</th>\n",
       "      <th>OrderID</th>\n",
       "      <th>Location</th>\n",
       "    </tr>\n",
       "  </thead>\n",
       "  <tbody>\n",
       "    <tr>\n",
       "      <th>0</th>\n",
       "      <td>8814</td>\n",
       "      <td>2023-04-11</td>\n",
       "      <td>943.31</td>\n",
       "      <td>Product C</td>\n",
       "      <td>890075</td>\n",
       "      <td>Tokyo</td>\n",
       "    </tr>\n",
       "    <tr>\n",
       "      <th>1</th>\n",
       "      <td>2188</td>\n",
       "      <td>2023-04-11</td>\n",
       "      <td>463.70</td>\n",
       "      <td>Product A</td>\n",
       "      <td>176819</td>\n",
       "      <td>London</td>\n",
       "    </tr>\n",
       "    <tr>\n",
       "      <th>2</th>\n",
       "      <td>4608</td>\n",
       "      <td>2023-04-11</td>\n",
       "      <td>80.28</td>\n",
       "      <td>Product A</td>\n",
       "      <td>340062</td>\n",
       "      <td>New York</td>\n",
       "    </tr>\n",
       "    <tr>\n",
       "      <th>3</th>\n",
       "      <td>2559</td>\n",
       "      <td>2023-04-11</td>\n",
       "      <td>221.29</td>\n",
       "      <td>Product A</td>\n",
       "      <td>239145</td>\n",
       "      <td>London</td>\n",
       "    </tr>\n",
       "    <tr>\n",
       "      <th>4</th>\n",
       "      <td>9482</td>\n",
       "      <td>2023-04-11</td>\n",
       "      <td>739.56</td>\n",
       "      <td>Product A</td>\n",
       "      <td>194545</td>\n",
       "      <td>Paris</td>\n",
       "    </tr>\n",
       "  </tbody>\n",
       "</table>\n",
       "</div>"
      ],
      "text/plain": [
       "  CustomerID PurchaseDate  TransactionAmount ProductInformation  OrderID  \\\n",
       "0       8814   2023-04-11             943.31          Product C   890075   \n",
       "1       2188   2023-04-11             463.70          Product A   176819   \n",
       "2       4608   2023-04-11              80.28          Product A   340062   \n",
       "3       2559   2023-04-11             221.29          Product A   239145   \n",
       "4       9482   2023-04-11             739.56          Product A   194545   \n",
       "\n",
       "   Location  \n",
       "0     Tokyo  \n",
       "1    London  \n",
       "2  New York  \n",
       "3    London  \n",
       "4     Paris  "
      ]
     },
     "execution_count": 45,
     "metadata": {},
     "output_type": "execute_result"
    }
   ],
   "source": [
    "#convert CustomerID to string\n",
    "df['CustomerID'] = df['CustomerID'].astype(str)\n",
    "\n",
    "#convert PurchaseDate to datetime\n",
    "df['PurchaseDate'] = pd.to_datetime(df['PurchaseDate'])\n",
    "\n",
    "#check for null values\n",
    "df.isnull().sum()\n",
    "\n",
    "#check for duplicates\n",
    "df.drop_duplicates(inplace=True)\n",
    "\n",
    "df.head()"
   ]
  },
  {
   "cell_type": "code",
   "execution_count": 46,
   "id": "089f7814",
   "metadata": {},
   "outputs": [],
   "source": [
    "# I will define the analysis date as the max date in the dataset\n",
    "analysis_date = df['PurchaseDate'].max()"
   ]
  },
  {
   "cell_type": "markdown",
   "id": "ed170ce0",
   "metadata": {},
   "source": [
    "##  **Calculating The RFM Values:**\n"
   ]
  },
  {
   "cell_type": "markdown",
   "id": "7c73b79d",
   "metadata": {},
   "source": [
    "-   What is Recency (R)?\n",
    "\n",
    "    -   Definition: How recently a customer made a purchase.\n",
    "\n",
    "    -   Purpose: Customers who bought something more recently are more likely to respond to promotions or return to buy again.\n",
    "\n",
    "    -   Example: If Customer A bought something yesterday and Customer B bought something 3 months ago, Customer A has a better Recency score."
   ]
  },
  {
   "cell_type": "markdown",
   "id": "64b31c53",
   "metadata": {},
   "source": [
    "-   What's Frequency (F)?\n",
    "    -    Definition: How often a customer makes purchases in a given period.\n",
    "\n",
    "    -   Purpose: Frequent buyers are usually more loyal and more engaged with your brand.\n",
    "\n",
    "    -    Example: If Customer A made 10 purchases this year and Customer B made 2, Customer A has a higher Frequency score."
   ]
  },
  {
   "cell_type": "markdown",
   "id": "0f6c8fe6",
   "metadata": {},
   "source": [
    "-   What's Monetary (M)?\n",
    "    -   Definition: How much money a customer has spent.\n",
    "\n",
    "    -   Purpose: High-spending customers are more valuable to your business.\n",
    "\n",
    "    -   Example: If Customer A has spent $1,000 in total and Customer B has spent $200, Customer A scores higher on Monetary."
   ]
  },
  {
   "cell_type": "code",
   "execution_count": 47,
   "id": "e5a1d7d9",
   "metadata": {},
   "outputs": [
    {
     "data": {
      "application/vnd.microsoft.datawrangler.viewer.v0+json": {
       "columns": [
        {
         "name": "index",
         "rawType": "int64",
         "type": "integer"
        },
        {
         "name": "CustomerID",
         "rawType": "object",
         "type": "string"
        },
        {
         "name": "Recency",
         "rawType": "int64",
         "type": "integer"
        }
       ],
       "conversionMethod": "pd.DataFrame",
       "ref": "be0d708c-d555-48a2-aec8-468542ca97d7",
       "rows": [
        [
         "0",
         "1011",
         "33"
        ],
        [
         "1",
         "1025",
         "21"
        ],
        [
         "2",
         "1029",
         "0"
        ],
        [
         "3",
         "1046",
         "43"
        ],
        [
         "4",
         "1049",
         "13"
        ]
       ],
       "shape": {
        "columns": 2,
        "rows": 5
       }
      },
      "text/html": [
       "<div>\n",
       "<style scoped>\n",
       "    .dataframe tbody tr th:only-of-type {\n",
       "        vertical-align: middle;\n",
       "    }\n",
       "\n",
       "    .dataframe tbody tr th {\n",
       "        vertical-align: top;\n",
       "    }\n",
       "\n",
       "    .dataframe thead th {\n",
       "        text-align: right;\n",
       "    }\n",
       "</style>\n",
       "<table border=\"1\" class=\"dataframe\">\n",
       "  <thead>\n",
       "    <tr style=\"text-align: right;\">\n",
       "      <th></th>\n",
       "      <th>CustomerID</th>\n",
       "      <th>Recency</th>\n",
       "    </tr>\n",
       "  </thead>\n",
       "  <tbody>\n",
       "    <tr>\n",
       "      <th>0</th>\n",
       "      <td>1011</td>\n",
       "      <td>33</td>\n",
       "    </tr>\n",
       "    <tr>\n",
       "      <th>1</th>\n",
       "      <td>1025</td>\n",
       "      <td>21</td>\n",
       "    </tr>\n",
       "    <tr>\n",
       "      <th>2</th>\n",
       "      <td>1029</td>\n",
       "      <td>0</td>\n",
       "    </tr>\n",
       "    <tr>\n",
       "      <th>3</th>\n",
       "      <td>1046</td>\n",
       "      <td>43</td>\n",
       "    </tr>\n",
       "    <tr>\n",
       "      <th>4</th>\n",
       "      <td>1049</td>\n",
       "      <td>13</td>\n",
       "    </tr>\n",
       "  </tbody>\n",
       "</table>\n",
       "</div>"
      ],
      "text/plain": [
       "  CustomerID  Recency\n",
       "0       1011       33\n",
       "1       1025       21\n",
       "2       1029        0\n",
       "3       1046       43\n",
       "4       1049       13"
      ]
     },
     "execution_count": 47,
     "metadata": {},
     "output_type": "execute_result"
    }
   ],
   "source": [
    "# create a df to calculate the recency\n",
    "recency_df = df.groupby('CustomerID')['PurchaseDate'].max().reset_index()\n",
    "recency_df['Recency'] =  (analysis_date - recency_df['PurchaseDate']).dt.days\n",
    "recency_df.drop('PurchaseDate', axis=1, inplace=True)\n",
    "recency_df.head()"
   ]
  },
  {
   "cell_type": "code",
   "execution_count": 48,
   "id": "cbd8365e",
   "metadata": {},
   "outputs": [
    {
     "data": {
      "application/vnd.microsoft.datawrangler.viewer.v0+json": {
       "columns": [
        {
         "name": "index",
         "rawType": "int64",
         "type": "integer"
        },
        {
         "name": "CustomerID",
         "rawType": "object",
         "type": "string"
        },
        {
         "name": "Frequency",
         "rawType": "int64",
         "type": "integer"
        }
       ],
       "conversionMethod": "pd.DataFrame",
       "ref": "b0b1a0e9-978b-42c8-8fb2-ffe6a5badbb7",
       "rows": [
        [
         "0",
         "1011",
         "2"
        ],
        [
         "1",
         "1025",
         "1"
        ],
        [
         "2",
         "1029",
         "1"
        ],
        [
         "3",
         "1046",
         "1"
        ],
        [
         "4",
         "1049",
         "1"
        ]
       ],
       "shape": {
        "columns": 2,
        "rows": 5
       }
      },
      "text/html": [
       "<div>\n",
       "<style scoped>\n",
       "    .dataframe tbody tr th:only-of-type {\n",
       "        vertical-align: middle;\n",
       "    }\n",
       "\n",
       "    .dataframe tbody tr th {\n",
       "        vertical-align: top;\n",
       "    }\n",
       "\n",
       "    .dataframe thead th {\n",
       "        text-align: right;\n",
       "    }\n",
       "</style>\n",
       "<table border=\"1\" class=\"dataframe\">\n",
       "  <thead>\n",
       "    <tr style=\"text-align: right;\">\n",
       "      <th></th>\n",
       "      <th>CustomerID</th>\n",
       "      <th>Frequency</th>\n",
       "    </tr>\n",
       "  </thead>\n",
       "  <tbody>\n",
       "    <tr>\n",
       "      <th>0</th>\n",
       "      <td>1011</td>\n",
       "      <td>2</td>\n",
       "    </tr>\n",
       "    <tr>\n",
       "      <th>1</th>\n",
       "      <td>1025</td>\n",
       "      <td>1</td>\n",
       "    </tr>\n",
       "    <tr>\n",
       "      <th>2</th>\n",
       "      <td>1029</td>\n",
       "      <td>1</td>\n",
       "    </tr>\n",
       "    <tr>\n",
       "      <th>3</th>\n",
       "      <td>1046</td>\n",
       "      <td>1</td>\n",
       "    </tr>\n",
       "    <tr>\n",
       "      <th>4</th>\n",
       "      <td>1049</td>\n",
       "      <td>1</td>\n",
       "    </tr>\n",
       "  </tbody>\n",
       "</table>\n",
       "</div>"
      ],
      "text/plain": [
       "  CustomerID  Frequency\n",
       "0       1011          2\n",
       "1       1025          1\n",
       "2       1029          1\n",
       "3       1046          1\n",
       "4       1049          1"
      ]
     },
     "execution_count": 48,
     "metadata": {},
     "output_type": "execute_result"
    }
   ],
   "source": [
    "# Frequency: Number of transactions per customer\n",
    "frequency_df = df.groupby('CustomerID')['OrderID'].count().reset_index().rename(columns={'OrderID': 'Frequency'})\n",
    "frequency_df.head()"
   ]
  },
  {
   "cell_type": "code",
   "execution_count": 49,
   "id": "5f904c7d",
   "metadata": {},
   "outputs": [
    {
     "data": {
      "application/vnd.microsoft.datawrangler.viewer.v0+json": {
       "columns": [
        {
         "name": "index",
         "rawType": "int64",
         "type": "integer"
        },
        {
         "name": "CustomerID",
         "rawType": "object",
         "type": "string"
        },
        {
         "name": "Monetary",
         "rawType": "float64",
         "type": "float"
        }
       ],
       "conversionMethod": "pd.DataFrame",
       "ref": "23a5ad10-a880-4fe6-92f4-071e736d14e6",
       "rows": [
        [
         "0",
         "1011",
         "1129.02"
        ],
        [
         "1",
         "1025",
         "359.29"
        ],
        [
         "2",
         "1029",
         "704.99"
        ],
        [
         "3",
         "1046",
         "859.82"
        ],
        [
         "4",
         "1049",
         "225.72"
        ]
       ],
       "shape": {
        "columns": 2,
        "rows": 5
       }
      },
      "text/html": [
       "<div>\n",
       "<style scoped>\n",
       "    .dataframe tbody tr th:only-of-type {\n",
       "        vertical-align: middle;\n",
       "    }\n",
       "\n",
       "    .dataframe tbody tr th {\n",
       "        vertical-align: top;\n",
       "    }\n",
       "\n",
       "    .dataframe thead th {\n",
       "        text-align: right;\n",
       "    }\n",
       "</style>\n",
       "<table border=\"1\" class=\"dataframe\">\n",
       "  <thead>\n",
       "    <tr style=\"text-align: right;\">\n",
       "      <th></th>\n",
       "      <th>CustomerID</th>\n",
       "      <th>Monetary</th>\n",
       "    </tr>\n",
       "  </thead>\n",
       "  <tbody>\n",
       "    <tr>\n",
       "      <th>0</th>\n",
       "      <td>1011</td>\n",
       "      <td>1129.02</td>\n",
       "    </tr>\n",
       "    <tr>\n",
       "      <th>1</th>\n",
       "      <td>1025</td>\n",
       "      <td>359.29</td>\n",
       "    </tr>\n",
       "    <tr>\n",
       "      <th>2</th>\n",
       "      <td>1029</td>\n",
       "      <td>704.99</td>\n",
       "    </tr>\n",
       "    <tr>\n",
       "      <th>3</th>\n",
       "      <td>1046</td>\n",
       "      <td>859.82</td>\n",
       "    </tr>\n",
       "    <tr>\n",
       "      <th>4</th>\n",
       "      <td>1049</td>\n",
       "      <td>225.72</td>\n",
       "    </tr>\n",
       "  </tbody>\n",
       "</table>\n",
       "</div>"
      ],
      "text/plain": [
       "  CustomerID  Monetary\n",
       "0       1011   1129.02\n",
       "1       1025    359.29\n",
       "2       1029    704.99\n",
       "3       1046    859.82\n",
       "4       1049    225.72"
      ]
     },
     "execution_count": 49,
     "metadata": {},
     "output_type": "execute_result"
    }
   ],
   "source": [
    "# Monetary: Total transaction amount per customer\n",
    "monetary_df = df.groupby('CustomerID')['TransactionAmount'].sum().reset_index().rename(columns={'TransactionAmount': 'Monetary'})\n",
    "\n",
    "monetary_df.head()"
   ]
  },
  {
   "cell_type": "code",
   "execution_count": 50,
   "id": "61957344",
   "metadata": {},
   "outputs": [
    {
     "data": {
      "application/vnd.microsoft.datawrangler.viewer.v0+json": {
       "columns": [
        {
         "name": "index",
         "rawType": "int64",
         "type": "integer"
        },
        {
         "name": "CustomerID",
         "rawType": "object",
         "type": "string"
        },
        {
         "name": "Recency",
         "rawType": "int64",
         "type": "integer"
        },
        {
         "name": "Frequency",
         "rawType": "int64",
         "type": "integer"
        },
        {
         "name": "Monetary",
         "rawType": "float64",
         "type": "float"
        }
       ],
       "conversionMethod": "pd.DataFrame",
       "ref": "5a69c553-f946-4c51-a1f9-a5563b4c4d58",
       "rows": [
        [
         "0",
         "1011",
         "33",
         "2",
         "1129.02"
        ],
        [
         "1",
         "1025",
         "21",
         "1",
         "359.29"
        ],
        [
         "2",
         "1029",
         "0",
         "1",
         "704.99"
        ],
        [
         "3",
         "1046",
         "43",
         "1",
         "859.82"
        ],
        [
         "4",
         "1049",
         "13",
         "1",
         "225.72"
        ]
       ],
       "shape": {
        "columns": 4,
        "rows": 5
       }
      },
      "text/html": [
       "<div>\n",
       "<style scoped>\n",
       "    .dataframe tbody tr th:only-of-type {\n",
       "        vertical-align: middle;\n",
       "    }\n",
       "\n",
       "    .dataframe tbody tr th {\n",
       "        vertical-align: top;\n",
       "    }\n",
       "\n",
       "    .dataframe thead th {\n",
       "        text-align: right;\n",
       "    }\n",
       "</style>\n",
       "<table border=\"1\" class=\"dataframe\">\n",
       "  <thead>\n",
       "    <tr style=\"text-align: right;\">\n",
       "      <th></th>\n",
       "      <th>CustomerID</th>\n",
       "      <th>Recency</th>\n",
       "      <th>Frequency</th>\n",
       "      <th>Monetary</th>\n",
       "    </tr>\n",
       "  </thead>\n",
       "  <tbody>\n",
       "    <tr>\n",
       "      <th>0</th>\n",
       "      <td>1011</td>\n",
       "      <td>33</td>\n",
       "      <td>2</td>\n",
       "      <td>1129.02</td>\n",
       "    </tr>\n",
       "    <tr>\n",
       "      <th>1</th>\n",
       "      <td>1025</td>\n",
       "      <td>21</td>\n",
       "      <td>1</td>\n",
       "      <td>359.29</td>\n",
       "    </tr>\n",
       "    <tr>\n",
       "      <th>2</th>\n",
       "      <td>1029</td>\n",
       "      <td>0</td>\n",
       "      <td>1</td>\n",
       "      <td>704.99</td>\n",
       "    </tr>\n",
       "    <tr>\n",
       "      <th>3</th>\n",
       "      <td>1046</td>\n",
       "      <td>43</td>\n",
       "      <td>1</td>\n",
       "      <td>859.82</td>\n",
       "    </tr>\n",
       "    <tr>\n",
       "      <th>4</th>\n",
       "      <td>1049</td>\n",
       "      <td>13</td>\n",
       "      <td>1</td>\n",
       "      <td>225.72</td>\n",
       "    </tr>\n",
       "  </tbody>\n",
       "</table>\n",
       "</div>"
      ],
      "text/plain": [
       "  CustomerID  Recency  Frequency  Monetary\n",
       "0       1011       33          2   1129.02\n",
       "1       1025       21          1    359.29\n",
       "2       1029        0          1    704.99\n",
       "3       1046       43          1    859.82\n",
       "4       1049       13          1    225.72"
      ]
     },
     "execution_count": 50,
     "metadata": {},
     "output_type": "execute_result"
    }
   ],
   "source": [
    "# Merge RFM metrics\n",
    "rfm_df = recency_df.merge(frequency_df, on='CustomerID').merge(monetary_df, on='CustomerID')\n",
    "rfm_df.head()"
   ]
  },
  {
   "cell_type": "markdown",
   "id": "56ce5982",
   "metadata": {},
   "source": [
    "-   Now let's categorizes customers based on Recency, Frequency, and Monetary values using scoring systems. Recency is ranked inversely (lower is better), while Frequency and Monetary values are ranked positively (higher is better). It assigns scores from 1 to 5, converts them into integers, and prepares the data for further RFM analysis\n"
   ]
  },
  {
   "cell_type": "code",
   "execution_count": 51,
   "id": "ca8773c7",
   "metadata": {},
   "outputs": [
    {
     "data": {
      "application/vnd.microsoft.datawrangler.viewer.v0+json": {
       "columns": [
        {
         "name": "index",
         "rawType": "int64",
         "type": "integer"
        },
        {
         "name": "CustomerID",
         "rawType": "object",
         "type": "string"
        },
        {
         "name": "Recency",
         "rawType": "int64",
         "type": "integer"
        },
        {
         "name": "Frequency",
         "rawType": "int64",
         "type": "integer"
        },
        {
         "name": "Monetary",
         "rawType": "float64",
         "type": "float"
        },
        {
         "name": "R_Score",
         "rawType": "int32",
         "type": "integer"
        },
        {
         "name": "F_Score",
         "rawType": "int32",
         "type": "integer"
        },
        {
         "name": "M_Score",
         "rawType": "int32",
         "type": "integer"
        }
       ],
       "conversionMethod": "pd.DataFrame",
       "ref": "ac68a3bd-25c9-4a5d-aea4-e4e20579b245",
       "rows": [
        [
         "0",
         "1011",
         "33",
         "2",
         "1129.02",
         "3",
         "3",
         "5"
        ],
        [
         "1",
         "1025",
         "21",
         "1",
         "359.29",
         "4",
         "1",
         "2"
        ],
        [
         "2",
         "1029",
         "0",
         "1",
         "704.99",
         "5",
         "1",
         "4"
        ],
        [
         "3",
         "1046",
         "43",
         "1",
         "859.82",
         "2",
         "1",
         "5"
        ],
        [
         "4",
         "1049",
         "13",
         "1",
         "225.72",
         "4",
         "1",
         "2"
        ]
       ],
       "shape": {
        "columns": 7,
        "rows": 5
       }
      },
      "text/html": [
       "<div>\n",
       "<style scoped>\n",
       "    .dataframe tbody tr th:only-of-type {\n",
       "        vertical-align: middle;\n",
       "    }\n",
       "\n",
       "    .dataframe tbody tr th {\n",
       "        vertical-align: top;\n",
       "    }\n",
       "\n",
       "    .dataframe thead th {\n",
       "        text-align: right;\n",
       "    }\n",
       "</style>\n",
       "<table border=\"1\" class=\"dataframe\">\n",
       "  <thead>\n",
       "    <tr style=\"text-align: right;\">\n",
       "      <th></th>\n",
       "      <th>CustomerID</th>\n",
       "      <th>Recency</th>\n",
       "      <th>Frequency</th>\n",
       "      <th>Monetary</th>\n",
       "      <th>R_Score</th>\n",
       "      <th>F_Score</th>\n",
       "      <th>M_Score</th>\n",
       "    </tr>\n",
       "  </thead>\n",
       "  <tbody>\n",
       "    <tr>\n",
       "      <th>0</th>\n",
       "      <td>1011</td>\n",
       "      <td>33</td>\n",
       "      <td>2</td>\n",
       "      <td>1129.02</td>\n",
       "      <td>3</td>\n",
       "      <td>3</td>\n",
       "      <td>5</td>\n",
       "    </tr>\n",
       "    <tr>\n",
       "      <th>1</th>\n",
       "      <td>1025</td>\n",
       "      <td>21</td>\n",
       "      <td>1</td>\n",
       "      <td>359.29</td>\n",
       "      <td>4</td>\n",
       "      <td>1</td>\n",
       "      <td>2</td>\n",
       "    </tr>\n",
       "    <tr>\n",
       "      <th>2</th>\n",
       "      <td>1029</td>\n",
       "      <td>0</td>\n",
       "      <td>1</td>\n",
       "      <td>704.99</td>\n",
       "      <td>5</td>\n",
       "      <td>1</td>\n",
       "      <td>4</td>\n",
       "    </tr>\n",
       "    <tr>\n",
       "      <th>3</th>\n",
       "      <td>1046</td>\n",
       "      <td>43</td>\n",
       "      <td>1</td>\n",
       "      <td>859.82</td>\n",
       "      <td>2</td>\n",
       "      <td>1</td>\n",
       "      <td>5</td>\n",
       "    </tr>\n",
       "    <tr>\n",
       "      <th>4</th>\n",
       "      <td>1049</td>\n",
       "      <td>13</td>\n",
       "      <td>1</td>\n",
       "      <td>225.72</td>\n",
       "      <td>4</td>\n",
       "      <td>1</td>\n",
       "      <td>2</td>\n",
       "    </tr>\n",
       "  </tbody>\n",
       "</table>\n",
       "</div>"
      ],
      "text/plain": [
       "  CustomerID  Recency  Frequency  Monetary  R_Score  F_Score  M_Score\n",
       "0       1011       33          2   1129.02        3        3        5\n",
       "1       1025       21          1    359.29        4        1        2\n",
       "2       1029        0          1    704.99        5        1        4\n",
       "3       1046       43          1    859.82        2        1        5\n",
       "4       1049       13          1    225.72        4        1        2"
      ]
     },
     "execution_count": 51,
     "metadata": {},
     "output_type": "execute_result"
    }
   ],
   "source": [
    "# Recency: Lower is better\n",
    "rfm_df['R_Score'] = pd.qcut(rfm_df['Recency'], q=5, labels=[5, 4, 3, 2, 1])\n",
    "\n",
    "# Frequency: Higher is better\n",
    "rfm_df['F_Score'] = pd.cut(rfm_df['Frequency'], bins=5, labels=[1, 2, 3, 4, 5])\n",
    "\n",
    "# Monetary: Higher is better\n",
    "rfm_df['M_Score'] = pd.qcut(rfm_df['Monetary'], q=5, labels=[1, 2, 3, 4, 5])\n",
    "\n",
    "# Convert scores to integers\n",
    "rfm_df['R_Score'] = rfm_df['R_Score'].astype(int)\n",
    "rfm_df['F_Score'] = rfm_df['F_Score'].astype(int)\n",
    "rfm_df['M_Score'] = rfm_df['M_Score'].astype(int)\n",
    "\n",
    "rfm_df.head()"
   ]
  },
  {
   "cell_type": "code",
   "execution_count": 52,
   "id": "083f811f",
   "metadata": {},
   "outputs": [
    {
     "data": {
      "application/vnd.microsoft.datawrangler.viewer.v0+json": {
       "columns": [
        {
         "name": "index",
         "rawType": "int64",
         "type": "integer"
        },
        {
         "name": "CustomerID",
         "rawType": "object",
         "type": "string"
        },
        {
         "name": "Recency",
         "rawType": "int64",
         "type": "integer"
        },
        {
         "name": "Frequency",
         "rawType": "int64",
         "type": "integer"
        },
        {
         "name": "Monetary",
         "rawType": "float64",
         "type": "float"
        },
        {
         "name": "R_Score",
         "rawType": "int32",
         "type": "integer"
        },
        {
         "name": "F_Score",
         "rawType": "int32",
         "type": "integer"
        },
        {
         "name": "M_Score",
         "rawType": "int32",
         "type": "integer"
        },
        {
         "name": "RFM_Overall",
         "rawType": "int32",
         "type": "integer"
        }
       ],
       "conversionMethod": "pd.DataFrame",
       "ref": "cd765b29-56b6-42e3-a94d-7230cbd5baad",
       "rows": [
        [
         "0",
         "1011",
         "33",
         "2",
         "1129.02",
         "3",
         "3",
         "5",
         "11"
        ],
        [
         "1",
         "1025",
         "21",
         "1",
         "359.29",
         "4",
         "1",
         "2",
         "7"
        ],
        [
         "2",
         "1029",
         "0",
         "1",
         "704.99",
         "5",
         "1",
         "4",
         "10"
        ],
        [
         "3",
         "1046",
         "43",
         "1",
         "859.82",
         "2",
         "1",
         "5",
         "8"
        ],
        [
         "4",
         "1049",
         "13",
         "1",
         "225.72",
         "4",
         "1",
         "2",
         "7"
        ]
       ],
       "shape": {
        "columns": 8,
        "rows": 5
       }
      },
      "text/html": [
       "<div>\n",
       "<style scoped>\n",
       "    .dataframe tbody tr th:only-of-type {\n",
       "        vertical-align: middle;\n",
       "    }\n",
       "\n",
       "    .dataframe tbody tr th {\n",
       "        vertical-align: top;\n",
       "    }\n",
       "\n",
       "    .dataframe thead th {\n",
       "        text-align: right;\n",
       "    }\n",
       "</style>\n",
       "<table border=\"1\" class=\"dataframe\">\n",
       "  <thead>\n",
       "    <tr style=\"text-align: right;\">\n",
       "      <th></th>\n",
       "      <th>CustomerID</th>\n",
       "      <th>Recency</th>\n",
       "      <th>Frequency</th>\n",
       "      <th>Monetary</th>\n",
       "      <th>R_Score</th>\n",
       "      <th>F_Score</th>\n",
       "      <th>M_Score</th>\n",
       "      <th>RFM_Overall</th>\n",
       "    </tr>\n",
       "  </thead>\n",
       "  <tbody>\n",
       "    <tr>\n",
       "      <th>0</th>\n",
       "      <td>1011</td>\n",
       "      <td>33</td>\n",
       "      <td>2</td>\n",
       "      <td>1129.02</td>\n",
       "      <td>3</td>\n",
       "      <td>3</td>\n",
       "      <td>5</td>\n",
       "      <td>11</td>\n",
       "    </tr>\n",
       "    <tr>\n",
       "      <th>1</th>\n",
       "      <td>1025</td>\n",
       "      <td>21</td>\n",
       "      <td>1</td>\n",
       "      <td>359.29</td>\n",
       "      <td>4</td>\n",
       "      <td>1</td>\n",
       "      <td>2</td>\n",
       "      <td>7</td>\n",
       "    </tr>\n",
       "    <tr>\n",
       "      <th>2</th>\n",
       "      <td>1029</td>\n",
       "      <td>0</td>\n",
       "      <td>1</td>\n",
       "      <td>704.99</td>\n",
       "      <td>5</td>\n",
       "      <td>1</td>\n",
       "      <td>4</td>\n",
       "      <td>10</td>\n",
       "    </tr>\n",
       "    <tr>\n",
       "      <th>3</th>\n",
       "      <td>1046</td>\n",
       "      <td>43</td>\n",
       "      <td>1</td>\n",
       "      <td>859.82</td>\n",
       "      <td>2</td>\n",
       "      <td>1</td>\n",
       "      <td>5</td>\n",
       "      <td>8</td>\n",
       "    </tr>\n",
       "    <tr>\n",
       "      <th>4</th>\n",
       "      <td>1049</td>\n",
       "      <td>13</td>\n",
       "      <td>1</td>\n",
       "      <td>225.72</td>\n",
       "      <td>4</td>\n",
       "      <td>1</td>\n",
       "      <td>2</td>\n",
       "      <td>7</td>\n",
       "    </tr>\n",
       "  </tbody>\n",
       "</table>\n",
       "</div>"
      ],
      "text/plain": [
       "  CustomerID  Recency  Frequency  Monetary  R_Score  F_Score  M_Score  \\\n",
       "0       1011       33          2   1129.02        3        3        5   \n",
       "1       1025       21          1    359.29        4        1        2   \n",
       "2       1029        0          1    704.99        5        1        4   \n",
       "3       1046       43          1    859.82        2        1        5   \n",
       "4       1049       13          1    225.72        4        1        2   \n",
       "\n",
       "   RFM_Overall  \n",
       "0           11  \n",
       "1            7  \n",
       "2           10  \n",
       "3            8  \n",
       "4            7  "
      ]
     },
     "execution_count": 52,
     "metadata": {},
     "output_type": "execute_result"
    }
   ],
   "source": [
    "# Overall RFM Score\n",
    "rfm_df['RFM_Overall'] = rfm_df['R_Score'] + rfm_df['F_Score'] + rfm_df['M_Score']\n",
    "rfm_df.head()"
   ]
  },
  {
   "cell_type": "markdown",
   "id": "f323dc12",
   "metadata": {},
   "source": [
    "-   I will classify customers into different segments based on their Recency, Frequency, and Monetary scores. Customers with high values across all metrics are labeled as Champions, while those showing loyalty or frequent spending are categorized accordingly. Recent customers and those at risk of disengagement are also identified, helping businesses tailor their marketing strategies\n"
   ]
  },
  {
   "cell_type": "code",
   "execution_count": 63,
   "id": "3decee75",
   "metadata": {},
   "outputs": [
    {
     "data": {
      "application/vnd.microsoft.datawrangler.viewer.v0+json": {
       "columns": [
        {
         "name": "index",
         "rawType": "int64",
         "type": "integer"
        },
        {
         "name": "CustomerID",
         "rawType": "object",
         "type": "string"
        },
        {
         "name": "Recency",
         "rawType": "int64",
         "type": "integer"
        },
        {
         "name": "Frequency",
         "rawType": "int64",
         "type": "integer"
        },
        {
         "name": "Monetary",
         "rawType": "float64",
         "type": "float"
        },
        {
         "name": "R_Score",
         "rawType": "int32",
         "type": "integer"
        },
        {
         "name": "F_Score",
         "rawType": "int32",
         "type": "integer"
        },
        {
         "name": "M_Score",
         "rawType": "int32",
         "type": "integer"
        },
        {
         "name": "RFM_Overall",
         "rawType": "int32",
         "type": "integer"
        },
        {
         "name": "Cusomer_Segment",
         "rawType": "object",
         "type": "string"
        },
        {
         "name": "Customer_Segment",
         "rawType": "object",
         "type": "string"
        }
       ],
       "conversionMethod": "pd.DataFrame",
       "ref": "37e3a3f9-ecaf-4544-88d1-fb1f136fd694",
       "rows": [
        [
         "0",
         "1011",
         "33",
         "2",
         "1129.02",
         "3",
         "3",
         "5",
         "11",
         "Loyal Customers",
         "Loyal Customers"
        ],
        [
         "1",
         "1025",
         "21",
         "1",
         "359.29",
         "4",
         "1",
         "2",
         "7",
         "Potential Loyalists",
         "Potential Loyalists"
        ],
        [
         "2",
         "1029",
         "0",
         "1",
         "704.99",
         "5",
         "1",
         "4",
         "10",
         "Loyal Customers",
         "Loyal Customers"
        ],
        [
         "3",
         "1046",
         "43",
         "1",
         "859.82",
         "2",
         "1",
         "5",
         "8",
         "Potential Loyalists",
         "Potential Loyalists"
        ],
        [
         "4",
         "1049",
         "13",
         "1",
         "225.72",
         "4",
         "1",
         "2",
         "7",
         "Potential Loyalists",
         "Potential Loyalists"
        ]
       ],
       "shape": {
        "columns": 10,
        "rows": 5
       }
      },
      "text/html": [
       "<div>\n",
       "<style scoped>\n",
       "    .dataframe tbody tr th:only-of-type {\n",
       "        vertical-align: middle;\n",
       "    }\n",
       "\n",
       "    .dataframe tbody tr th {\n",
       "        vertical-align: top;\n",
       "    }\n",
       "\n",
       "    .dataframe thead th {\n",
       "        text-align: right;\n",
       "    }\n",
       "</style>\n",
       "<table border=\"1\" class=\"dataframe\">\n",
       "  <thead>\n",
       "    <tr style=\"text-align: right;\">\n",
       "      <th></th>\n",
       "      <th>CustomerID</th>\n",
       "      <th>Recency</th>\n",
       "      <th>Frequency</th>\n",
       "      <th>Monetary</th>\n",
       "      <th>R_Score</th>\n",
       "      <th>F_Score</th>\n",
       "      <th>M_Score</th>\n",
       "      <th>RFM_Overall</th>\n",
       "      <th>Cusomer_Segment</th>\n",
       "      <th>Customer_Segment</th>\n",
       "    </tr>\n",
       "  </thead>\n",
       "  <tbody>\n",
       "    <tr>\n",
       "      <th>0</th>\n",
       "      <td>1011</td>\n",
       "      <td>33</td>\n",
       "      <td>2</td>\n",
       "      <td>1129.02</td>\n",
       "      <td>3</td>\n",
       "      <td>3</td>\n",
       "      <td>5</td>\n",
       "      <td>11</td>\n",
       "      <td>Loyal Customers</td>\n",
       "      <td>Loyal Customers</td>\n",
       "    </tr>\n",
       "    <tr>\n",
       "      <th>1</th>\n",
       "      <td>1025</td>\n",
       "      <td>21</td>\n",
       "      <td>1</td>\n",
       "      <td>359.29</td>\n",
       "      <td>4</td>\n",
       "      <td>1</td>\n",
       "      <td>2</td>\n",
       "      <td>7</td>\n",
       "      <td>Potential Loyalists</td>\n",
       "      <td>Potential Loyalists</td>\n",
       "    </tr>\n",
       "    <tr>\n",
       "      <th>2</th>\n",
       "      <td>1029</td>\n",
       "      <td>0</td>\n",
       "      <td>1</td>\n",
       "      <td>704.99</td>\n",
       "      <td>5</td>\n",
       "      <td>1</td>\n",
       "      <td>4</td>\n",
       "      <td>10</td>\n",
       "      <td>Loyal Customers</td>\n",
       "      <td>Loyal Customers</td>\n",
       "    </tr>\n",
       "    <tr>\n",
       "      <th>3</th>\n",
       "      <td>1046</td>\n",
       "      <td>43</td>\n",
       "      <td>1</td>\n",
       "      <td>859.82</td>\n",
       "      <td>2</td>\n",
       "      <td>1</td>\n",
       "      <td>5</td>\n",
       "      <td>8</td>\n",
       "      <td>Potential Loyalists</td>\n",
       "      <td>Potential Loyalists</td>\n",
       "    </tr>\n",
       "    <tr>\n",
       "      <th>4</th>\n",
       "      <td>1049</td>\n",
       "      <td>13</td>\n",
       "      <td>1</td>\n",
       "      <td>225.72</td>\n",
       "      <td>4</td>\n",
       "      <td>1</td>\n",
       "      <td>2</td>\n",
       "      <td>7</td>\n",
       "      <td>Potential Loyalists</td>\n",
       "      <td>Potential Loyalists</td>\n",
       "    </tr>\n",
       "  </tbody>\n",
       "</table>\n",
       "</div>"
      ],
      "text/plain": [
       "  CustomerID  Recency  Frequency  Monetary  R_Score  F_Score  M_Score  \\\n",
       "0       1011       33          2   1129.02        3        3        5   \n",
       "1       1025       21          1    359.29        4        1        2   \n",
       "2       1029        0          1    704.99        5        1        4   \n",
       "3       1046       43          1    859.82        2        1        5   \n",
       "4       1049       13          1    225.72        4        1        2   \n",
       "\n",
       "   RFM_Overall      Cusomer_Segment     Customer_Segment  \n",
       "0           11      Loyal Customers      Loyal Customers  \n",
       "1            7  Potential Loyalists  Potential Loyalists  \n",
       "2           10      Loyal Customers      Loyal Customers  \n",
       "3            8  Potential Loyalists  Potential Loyalists  \n",
       "4            7  Potential Loyalists  Potential Loyalists  "
      ]
     },
     "execution_count": 63,
     "metadata": {},
     "output_type": "execute_result"
    }
   ],
   "source": [
    "# create a column for customer segment based on RFM Overall score\n",
    "def rfm_segment(row):\n",
    "    if row['RFM_Overall'] >= 12:\n",
    "        return 'Champions'\n",
    "    elif row['RFM_Overall'] >= 9:\n",
    "        return 'Loyal Customers'\n",
    "    elif row['RFM_Overall'] >= 6:\n",
    "        return 'Potential Loyalists'\n",
    "    elif row['RFM_Overall'] >= 3:\n",
    "        return 'Frequent Spenders'\n",
    "    else:\n",
    "        return 'At Risk'\n",
    "rfm_df['Customer_Segment'] = rfm_df.apply(rfm_segment, axis=1)\n",
    "rfm_df.head()\n"
   ]
  },
  {
   "cell_type": "markdown",
   "id": "f0e68366",
   "metadata": {},
   "source": [
    "----"
   ]
  },
  {
   "cell_type": "markdown",
   "id": "e4dbc2b7",
   "metadata": {},
   "source": [
    "##  **RFM Values Distribution:**\n"
   ]
  },
  {
   "cell_type": "markdown",
   "id": "2d84f54f",
   "metadata": {},
   "source": [
    "-   Now let's create histograms to visualize the distribution of Recency, Frequency, and Monetary values. Each subplot shows how these metrics are spread across customers, helping identify trends and skewness. The KDE (Kernel Density Estimation) curve provides insight into the overall shape of the data. \n"
   ]
  },
  {
   "cell_type": "code",
   "execution_count": 55,
   "id": "1994ef48",
   "metadata": {},
   "outputs": [
    {
     "data": {
      "image/png": "[encoded data removed]",
      "text/plain": [
       "<Figure size 1000x400 with 3 Axes>"
      ]
     },
     "metadata": {},
     "output_type": "display_data"
    }
   ],
   "source": [
    "# Distribution of Recency, Frequency, Monetary\n",
    "plt.figure(figsize=(10, 4))\n",
    "plt.subplot(1, 3, 1)\n",
    "sns.histplot(rfm_df['Recency'], kde=True)\n",
    "plt.title('Recency Distribution')\n",
    "\n",
    "plt.subplot(1, 3, 2)\n",
    "sns.histplot(rfm_df['Frequency'], kde=True)\n",
    "plt.title('Frequency Distribution')\n",
    "\n",
    "plt.subplot(1, 3, 3)\n",
    "sns.histplot(rfm_df['Monetary'], kde=True)\n",
    "plt.title('Monetary Distribution')\n",
    "\n",
    "sns.despine()\n",
    "plt.tight_layout()\n",
    "plt.show()\n",
    "\n"
   ]
  },
  {
   "cell_type": "markdown",
   "id": "ecc57eb4",
   "metadata": {},
   "source": [
    "-   **Key Insights:**\n",
    "\n",
    "    * **Recency:** The 'Recency' distribution seems somewhat uniform or even bimodal. Customers have made purchases across a wide range of recent times, with slight peaks around the shorter and longer recency values shown on the x-axis. This suggests a fairly active customer base with different segments in terms of their last purchase date.\n",
    "\n",
    "    * **Frequency:** The 'Frequency' distribution is highly skewed to the right. The vast majority of customers have a purchase frequency of 1. There are very few customers with a frequency greater than 1, and even fewer with frequencies of 2 or 3. This indicates that most customers in this dataset are likely one-time purchasers.\n",
    "\n",
    "    * **Monetary:** The 'Monetary' distribution is also skewed to the right, with a large concentration of customers having lower monetary values. There's a significant peak around the lower spending range, followed by a long tail indicating that a smaller number of customers contribute significantly higher amounts to the total revenue.\n",
    "\n",
    "    In summary, you have a customer base where most people are recent, one-time buyers who spend a relatively small amount. However, there are also segments of customers who made purchases longer ago, and a smaller group of repeat customers and high-spending customers. This suggests opportunities for strategies focused on converting one-time buyers into repeat customers and nurturing the high-value customers.\n",
    "____"
   ]
  },
  {
   "cell_type": "markdown",
   "id": "65f1c24f",
   "metadata": {},
   "source": [
    "-   Let's generates box plots to visualize outliers in the Recency, Frequency, and Monetary metrics. Box plots help identify extreme values, showing the distribution of each variable while highlighting potential anomalies that could impact RFM analysis.\n"
   ]
  },
  {
   "cell_type": "code",
   "execution_count": 56,
   "id": "ede86c4c",
   "metadata": {},
   "outputs": [
    {
     "data": {
      "image/png": "[encoded data removed]",
      "text/plain": [
       "<Figure size 1000x400 with 3 Axes>"
      ]
     },
     "metadata": {},
     "output_type": "display_data"
    }
   ],
   "source": [
    "plt.figure(figsize=(10, 4))\n",
    "\n",
    "plt.subplot(1, 3, 1)\n",
    "sns.boxplot(y=rfm_df['Recency'])\n",
    "plt.title('Recency')\n",
    "\n",
    "plt.subplot(1, 3, 2)\n",
    "sns.boxplot(y=rfm_df['Frequency'])\n",
    "plt.title('Frequency')\n",
    "\n",
    "plt.subplot(1, 3, 3)\n",
    "sns.boxplot(y=rfm_df['Monetary'])\n",
    "plt.title('Monetary')\n",
    "\n",
    "\n",
    "sns.despine()\n",
    "plt.tight_layout()\n",
    "plt.show()"
   ]
  },
  {
   "cell_type": "markdown",
   "id": "1bb2c697",
   "metadata": {},
   "source": [
    "\n",
    "* **Recency:** Most recent purchases fall between roughly 15 and 45, with a median around 30. No major outliers.\n",
    "* **Frequency:** Almost all customers are one-time buyers (frequency of 1), with a few outliers of 2 or 3 purchases.\n",
    "* **Monetary:** Typical spending is between 250 and 750 (median around 500), but there are several high-spending outliers.\n",
    "\n",
    "**Key takeaway:** Mostly recent, one-time buyers with varied spending, including some significant high-value customers."
   ]
  },
  {
   "cell_type": "markdown",
   "id": "8ed1bdeb",
   "metadata": {},
   "source": [
    "----"
   ]
  },
  {
   "cell_type": "markdown",
   "id": "6f2208f0",
   "metadata": {},
   "source": [
    "##  **RFM Score Analysis:**\n"
   ]
  },
  {
   "cell_type": "markdown",
   "id": "8068c627",
   "metadata": {},
   "source": [
    "-   Now let's visualize the distribution of Recency, Frequency, and Monetary scores using count plots. Each plot shows how many customers fall into each score category, helping analyze trends in customer behavior."
   ]
  },
  {
   "cell_type": "code",
   "execution_count": 57,
   "id": "d3544e42",
   "metadata": {},
   "outputs": [
    {
     "data": {
      "image/png": "[encoded data removed]",
      "text/plain": [
       "<Figure size 1000x400 with 3 Axes>"
      ]
     },
     "metadata": {},
     "output_type": "display_data"
    }
   ],
   "source": [
    "# Score distributions\n",
    "fig, axes = plt.subplots(1, 3, figsize=(10, 4))\n",
    "sns.countplot(x='R_Score', data=rfm_df, ax=axes[0], palette='viridis')\n",
    "sns.countplot(x='F_Score', data=rfm_df, ax=axes[1], palette='viridis')\n",
    "sns.countplot(x='M_Score', data=rfm_df, ax=axes[2], palette='viridis')\n",
    "\n",
    "axes[0].set_title('Recency Score Distribution')\n",
    "axes[1].set_title('Frequency Score Distribution')\n",
    "axes[2].set_title('Monetary Score Distribution')\n",
    "\n",
    "#plt.suptitle('RFM Score Distributions')\n",
    "axes[0].set_xlabel('Recency Score')\n",
    "axes[1].set_xlabel('Frequency Score')\n",
    "axes[2].set_xlabel('Monetary Score')\n",
    "\n",
    "axes[0].set_ylabel('Count')\n",
    "axes[1].set_ylabel('Count')\n",
    "axes[2].set_ylabel('Count')\n",
    "\n",
    "\n",
    "sns.despine()\n",
    "plt.tight_layout()\n",
    "plt.show()"
   ]
  },
  {
   "cell_type": "markdown",
   "id": "6bbdd749",
   "metadata": {},
   "source": [
    "* **Recency Score:** The distribution across recency scores (1 to 5) is fairly even. This suggests a good mix of customers with different levels of recent activity.\n",
    "\n",
    "* **Frequency Score:** The vast majority of customers have a frequency score of 1. Scores of 3 and 5 have a very small representation. This strongly indicates that most customers are infrequent purchasers.\n",
    "\n",
    "* **Monetary Score:** The distribution across monetary scores (1 to 5) is also quite even. This implies a good mix of customers across different spending tiers.\n",
    "\n",
    "**In short:** You have a balanced distribution of customers based on how recently they purchased and how much they spend. However, most customers are infrequent buyers. This highlights an opportunity to focus on strategies that encourage repeat purchases.\n",
    "\n",
    "_____"
   ]
  },
  {
   "cell_type": "markdown",
   "id": "82a4eca8",
   "metadata": {},
   "source": [
    "-   Now we'll create a correlation heatmap to analyze relationships between Recency, Frequency, and Monetary values. The heatmap visually represents the strength and direction of correlations, helping to identify patterns in customer behavior.\n"
   ]
  },
  {
   "cell_type": "code",
   "execution_count": 58,
   "id": "09e99f49",
   "metadata": {},
   "outputs": [
    {
     "data": {
      "image/png": "[encoded data removed]",
      "text/plain": [
       "<Figure size 600x400 with 2 Axes>"
      ]
     },
     "metadata": {},
     "output_type": "display_data"
    }
   ],
   "source": [
    "# Correlation heatmap\n",
    "plt.figure(figsize=(6, 4))\n",
    "sns.heatmap(rfm_df[['Recency', 'Frequency', 'Monetary']].corr(), \n",
    "            annot=True, \n",
    "            cmap='coolwarm'\n",
    "            \n",
    "            )\n",
    "plt.title('RFM Correlation Matrix', pad=15)\n",
    "\n",
    "plt.tight_layout()\n",
    "plt.show()"
   ]
  },
  {
   "cell_type": "markdown",
   "id": "cde1bcda",
   "metadata": {},
   "source": [
    "* **Recency and Frequency:** There's a very weak negative correlation (-0.097) between Recency and Frequency. This suggests that how recently a customer purchased has a negligible tendency to relate to how often they purchase.\n",
    "\n",
    "* **Recency and Monetary:** Similarly, there's a very weak negative correlation (-0.047) between Recency and Monetary value. This indicates that how recently a customer purchased has almost no linear relationship with how much they've spent in total.\n",
    "\n",
    "* **Frequency and Monetary:** There's a moderate positive correlation (0.41) between Frequency and Monetary value. This is interesting! It implies that customers who purchase more frequently tend to spend more overall. This makes intuitive sense, as repeat purchases accumulate over time.\n",
    "\n",
    "**In brief:**\n",
    "\n",
    "* Recency is pretty independent of both Frequency and Monetary value.\n",
    "* Frequency and Monetary value have a noticeable positive relationship – more frequent buyers tend to be higher spenders."
   ]
  },
  {
   "cell_type": "markdown",
   "id": "caf0e52c",
   "metadata": {},
   "source": [
    "-----"
   ]
  },
  {
   "cell_type": "markdown",
   "id": "6c469185",
   "metadata": {},
   "source": [
    "##  **Segment Analysis:**"
   ]
  },
  {
   "cell_type": "markdown",
   "id": "a0cb095e",
   "metadata": {},
   "source": [
    "-   Let's visualize the distribution of customer segments using a count plot. It sorts the segments by their frequency, making it easier to see which groups have the most customers. The rotated labels improve readability, and the plot helps businesses analyze customer engagement patterns effectively.\n"
   ]
  },
  {
   "cell_type": "code",
   "execution_count": 64,
   "id": "a8c55dbd",
   "metadata": {},
   "outputs": [
    {
     "data": {
      "image/png": "[encoded data removed]",
      "text/plain": [
       "<Figure size 1000x400 with 1 Axes>"
      ]
     },
     "metadata": {},
     "output_type": "display_data"
    }
   ],
   "source": [
    "# Segment distribution\n",
    "plt.figure(figsize=(10, 4))\n",
    "sns.countplot(x='Customer_Segment', data=rfm_df, \n",
    "              order=rfm_df['Customer_Segment'].value_counts().index\n",
    "              , palette='Set1')\n",
    "\n",
    "\n",
    "plt.title('Customer Segment Distribution')\n",
    "plt.xlabel('Customer Segment')\n",
    "plt.ylabel('Number of Customers')\n",
    "plt.title('Customer Segment Distribution')\n",
    "plt.xticks(rotation=0)\n",
    "\n",
    "\n",
    "sns.despine()\n",
    "plt.tight_layout()\n",
    "plt.show()"
   ]
  },
  {
   "cell_type": "markdown",
   "id": "0219163c",
   "metadata": {},
   "source": [
    "-   **Key Insights**\n",
    "    * **Potential Loyalists:** This is by far the largest segment, with over 500 customers. This group likely represents recent customers with good spending habits but haven't purchased frequently yet. There's a significant opportunity to nurture these customers into loyal ones.\n",
    "\n",
    "    * **Loyal Customers:** This is a much smaller segment, with just over 25 customers. These customers purchase frequently and recently, but their spending might not be as high as other groups. They are valuable and should be retained.\n",
    "\n",
    "    * **Frequent Spenders:** This is an even smaller segment, with only around 10 customers. These customers purchase frequently and spend a good amount. They are highly valuable.\n",
    "\n",
    "    * **Champions:** This is the smallest segment, with only a handful of customers. These are your best customers – they purchase frequently, recently, and spend the most. They are crucial to your business.\n",
    "    ----------"
   ]
  },
  {
   "cell_type": "markdown",
   "id": "d714c54f",
   "metadata": {},
   "source": [
    "-   Now I'll analyze the average monetary value for each customer segment. It helps businesses understand which segments contribute the most revenue, allowing for better targeting and strategy optimization. The rotated labels improve readability for longer segment names. \n"
   ]
  },
  {
   "cell_type": "code",
   "execution_count": 66,
   "id": "b78e471d",
   "metadata": {},
   "outputs": [
    {
     "data": {
      "image/png": "[encoded data removed]",
      "text/plain": [
       "<Figure size 1000x400 with 1 Axes>"
      ]
     },
     "metadata": {},
     "output_type": "display_data"
    }
   ],
   "source": [
    "# Average Monetary Value by Segment\n",
    "plt.figure(figsize=(10, 4))\n",
    "sns.barplot(data=rfm_df,\n",
    "            x='Customer_Segment', \n",
    "            y='Monetary', \n",
    "            palette='Set1',\n",
    "            order=rfm_df.groupby('Customer_Segment')['Monetary'].mean().sort_values(ascending=False).index,\n",
    "            ci=None\n",
    "            )\n",
    "\n",
    "\n",
    "plt.title('Average Monetary Value by Segment')\n",
    "plt.xlabel('Customer Segment')\n",
    "plt.ylabel('Average Monetary Value')\n",
    "plt.xticks(rotation=0)\n",
    "\n",
    "\n",
    "\n",
    "sns.despine()\n",
    "plt.tight_layout()\n",
    "plt.show()"
   ]
  },
  {
   "cell_type": "markdown",
   "id": "e44820cb",
   "metadata": {},
   "source": [
    "-   ## Key Insights:\n",
    "    1. Champions – Highest Spend\n",
    "        -   Avg. Monetary Value ≈ 1380\n",
    "\n",
    "        -   This segment spends the most on average, reinforcing their status as your top-value customers.\n",
    "\n",
    "    2. Loyal Customers – Strong Revenue Contributors\n",
    "\n",
    "        -   Avg. Monetary Value ≈ 820\n",
    "\n",
    "        -   These customers are reliable spenders but don't reach champion levels.\n",
    "\n",
    "    3. Potential Loyalists – Mid-Range Spenders\n",
    "\n",
    "        -   Avg. Monetary Value ≈ 510\n",
    "\n",
    "        -   These customers are in a growth zone—they've started spending but haven’t reached high-value status yet.\n",
    "\n",
    "    4. Frequent Spenders – Lowest Monetary Value\n",
    "\n",
    "        -   Avg. Monetary Value ≈ 280\n",
    "\n",
    "        -   These customers don’t spend much per transaction, despite their label suggesting frequency.\n",
    "\n",
    "        ------------"
   ]
  },
  {
   "cell_type": "code",
   "execution_count": 120,
   "id": "d80b3ee1",
   "metadata": {},
   "outputs": [
    {
     "data": {
      "application/vnd.microsoft.datawrangler.viewer.v0+json": {
       "columns": [
        {
         "name": "index",
         "rawType": "int64",
         "type": "integer"
        },
        {
         "name": "Customer_Segment",
         "rawType": "object",
         "type": "string"
        },
        {
         "name": "R_Score",
         "rawType": "float64",
         "type": "float"
        },
        {
         "name": "F_Score",
         "rawType": "float64",
         "type": "float"
        },
        {
         "name": "M_Score",
         "rawType": "float64",
         "type": "float"
        },
        {
         "name": "RFM_Overall",
         "rawType": "float64",
         "type": "float"
        }
       ],
       "conversionMethod": "pd.DataFrame",
       "ref": "7710a6a0-3a37-481b-be91-6510df442e60",
       "rows": [
        [
         "0",
         "Champions",
         "4.5",
         "3.3",
         "4.95",
         "4.25"
        ],
        [
         "2",
         "Loyal Customers",
         "4.133891213389122",
         "1.2259414225941423",
         "4.334728033472803",
         "3.2315202231520224"
        ],
        [
         "3",
         "Potential Loyalists",
         "3.1147186147186146",
         "1.0173160173160174",
         "2.846320346320346",
         "2.326118326118326"
        ],
        [
         "1",
         "Frequent Spenders",
         "1.6177777777777778",
         "1.0",
         "1.7155555555555555",
         "1.4444444444444444"
        ]
       ],
       "shape": {
        "columns": 5,
        "rows": 4
       }
      },
      "text/html": [
       "<div>\n",
       "<style scoped>\n",
       "    .dataframe tbody tr th:only-of-type {\n",
       "        vertical-align: middle;\n",
       "    }\n",
       "\n",
       "    .dataframe tbody tr th {\n",
       "        vertical-align: top;\n",
       "    }\n",
       "\n",
       "    .dataframe thead th {\n",
       "        text-align: right;\n",
       "    }\n",
       "</style>\n",
       "<table border=\"1\" class=\"dataframe\">\n",
       "  <thead>\n",
       "    <tr style=\"text-align: right;\">\n",
       "      <th></th>\n",
       "      <th>Customer_Segment</th>\n",
       "      <th>R_Score</th>\n",
       "      <th>F_Score</th>\n",
       "      <th>M_Score</th>\n",
       "      <th>RFM_Overall</th>\n",
       "    </tr>\n",
       "  </thead>\n",
       "  <tbody>\n",
       "    <tr>\n",
       "      <th>0</th>\n",
       "      <td>Champions</td>\n",
       "      <td>4.500000</td>\n",
       "      <td>3.300000</td>\n",
       "      <td>4.950000</td>\n",
       "      <td>4.250000</td>\n",
       "    </tr>\n",
       "    <tr>\n",
       "      <th>2</th>\n",
       "      <td>Loyal Customers</td>\n",
       "      <td>4.133891</td>\n",
       "      <td>1.225941</td>\n",
       "      <td>4.334728</td>\n",
       "      <td>3.231520</td>\n",
       "    </tr>\n",
       "    <tr>\n",
       "      <th>3</th>\n",
       "      <td>Potential Loyalists</td>\n",
       "      <td>3.114719</td>\n",
       "      <td>1.017316</td>\n",
       "      <td>2.846320</td>\n",
       "      <td>2.326118</td>\n",
       "    </tr>\n",
       "    <tr>\n",
       "      <th>1</th>\n",
       "      <td>Frequent Spenders</td>\n",
       "      <td>1.617778</td>\n",
       "      <td>1.000000</td>\n",
       "      <td>1.715556</td>\n",
       "      <td>1.444444</td>\n",
       "    </tr>\n",
       "  </tbody>\n",
       "</table>\n",
       "</div>"
      ],
      "text/plain": [
       "      Customer_Segment   R_Score   F_Score   M_Score  RFM_Overall\n",
       "0            Champions  4.500000  3.300000  4.950000     4.250000\n",
       "2      Loyal Customers  4.133891  1.225941  4.334728     3.231520\n",
       "3  Potential Loyalists  3.114719  1.017316  2.846320     2.326118\n",
       "1    Frequent Spenders  1.617778  1.000000  1.715556     1.444444"
      ]
     },
     "execution_count": 120,
     "metadata": {},
     "output_type": "execute_result"
    }
   ],
   "source": [
    "# Average Recency, Frequency, and Monetary by Segment\n",
    "segment_analysis = rfm_df.groupby('Customer_Segment')[['R_Score', 'F_Score', 'M_Score']].mean().reset_index()\n",
    "\n",
    "segment_analysis['RFM_Overall'] = segment_analysis[['R_Score', 'F_Score', 'M_Score']].mean(axis=1)\n",
    "\n",
    "segment_analysis = segment_analysis.sort_values(by='RFM_Overall', ascending=False)\n",
    "segment_analysis"
   ]
  },
  {
   "cell_type": "code",
   "execution_count": 119,
   "id": "985e7629",
   "metadata": {},
   "outputs": [
    {
     "data": {
      "image/png": "[encoded data removed]",
      "text/plain": [
       "<Figure size 1000x400 with 1 Axes>"
      ]
     },
     "metadata": {},
     "output_type": "display_data"
    }
   ],
   "source": [
    "# Melt data for plotting\n",
    "melted = segment_analysis.melt(id_vars='Customer_Segment', value_vars=['R_Score', 'F_Score', 'M_Score'], \n",
    "                               var_name='RFM Score', value_name='Score')\n",
    "\n",
    "# Plot\n",
    "plt.figure(figsize=(10, 4))\n",
    "sns.barplot(data=melted,\n",
    "            x='Customer_Segment', \n",
    "            y='Score', \n",
    "            hue='RFM Score',  \n",
    "            ci=None,\n",
    "            palette='crest_r'\n",
    "            )\n",
    "plt.xticks(rotation=0)\n",
    "plt.title('Average R/F/M Scores by Segment',)\n",
    "plt.ylabel('Score')\n",
    "\n",
    "\n",
    "plt.legend(ncol=1, loc='upper right', fontsize='small', frameon=False)\n",
    "\n",
    "\n",
    "sns.despine()\n",
    "plt.tight_layout()\n",
    "plt.show()"
   ]
  },
  {
   "cell_type": "markdown",
   "id": "da5becc6",
   "metadata": {},
   "source": [
    "-   ## Segment-by-Segment Insights:\n",
    "    -   🏆 Champions\n",
    "        -   High R (4.5) and Very High M (≈ 5.0) → they purchased recently and spend a lot.\n",
    "        -   Moderate F (≈ 3.3) → not the most frequent, but still active.\n",
    "        -   These are high-value recent spenders.\n",
    "    -   Loyal Customers\n",
    "        -   High R (≈ 4.1), Low F (≈ 1.2), and High M (≈ 4.3).\n",
    "        -   They're spending a lot and buying recently, but not frequently.\n",
    "        -   Possibly big purchases once in a while.\n",
    "\n",
    "    -   Potential Loyalists\n",
    "        -   Moderate R (≈ 3.1), Very Low F (≈ 1.0), Moderate M (≈ 2.8).\n",
    "        -   They're early in the relationship—showing potential, but need nurturing.\n",
    "\n",
    "    -   Frequent Spenders\n",
    "        -   Low R (≈ 1.6), Very Low F (≈ 1.0), and Low M (≈ 1.7).\n",
    "        -   This label might be misleading—they are not recent, not frequent, and not spending much.\n",
    "    Possibly outdated or misclassified.\n",
    "\n",
    "-   Overall Insights:\n",
    "    -   Champions and Loyal Customers are your core drivers of value.\n",
    "    -   Potential Loyalists are worth investing in—they're close to becoming core.\n",
    "    -   \"Frequent Spenders\" might be a misnomer—review if their behavior matches the label."
   ]
  },
  {
   "cell_type": "markdown",
   "id": "ec62f07c",
   "metadata": {},
   "source": [
    "----"
   ]
  },
  {
   "cell_type": "markdown",
   "id": "9041fd59",
   "metadata": {},
   "source": [
    "##  **Product by Segment**"
   ]
  },
  {
   "cell_type": "markdown",
   "id": "c2f712b2",
   "metadata": {},
   "source": [
    "-   Now let's analyze each product by customer segment by merging customer segments with the original transaction data, allowing for deeper analysis of purchasing behavior. This helps businesses identify which products are most valuable to specific customer groups.\n"
   ]
  },
  {
   "cell_type": "code",
   "execution_count": 109,
   "id": "509ff1a8",
   "metadata": {},
   "outputs": [
    {
     "data": {
      "application/vnd.microsoft.datawrangler.viewer.v0+json": {
       "columns": [
        {
         "name": "index",
         "rawType": "int64",
         "type": "integer"
        },
        {
         "name": "Customer_Segment",
         "rawType": "object",
         "type": "string"
        },
        {
         "name": "ProductInformation",
         "rawType": "object",
         "type": "string"
        },
        {
         "name": "TransactionAmount",
         "rawType": "float64",
         "type": "float"
        }
       ],
       "conversionMethod": "pd.DataFrame",
       "ref": "40763639-c878-4d82-8385-d5785720a78e",
       "rows": [
        [
         "2",
         "Champions",
         "Product C",
         "9145.66"
        ],
        [
         "3",
         "Champions",
         "Product D",
         "6667.3"
        ],
        [
         "1",
         "Champions",
         "Product B",
         "6301.43"
        ],
        [
         "0",
         "Champions",
         "Product A",
         "5293.9"
        ],
        [
         "6",
         "Frequent Spenders",
         "Product C",
         "18290.74"
        ]
       ],
       "shape": {
        "columns": 3,
        "rows": 5
       }
      },
      "text/html": [
       "<div>\n",
       "<style scoped>\n",
       "    .dataframe tbody tr th:only-of-type {\n",
       "        vertical-align: middle;\n",
       "    }\n",
       "\n",
       "    .dataframe tbody tr th {\n",
       "        vertical-align: top;\n",
       "    }\n",
       "\n",
       "    .dataframe thead th {\n",
       "        text-align: right;\n",
       "    }\n",
       "</style>\n",
       "<table border=\"1\" class=\"dataframe\">\n",
       "  <thead>\n",
       "    <tr style=\"text-align: right;\">\n",
       "      <th></th>\n",
       "      <th>Customer_Segment</th>\n",
       "      <th>ProductInformation</th>\n",
       "      <th>TransactionAmount</th>\n",
       "    </tr>\n",
       "  </thead>\n",
       "  <tbody>\n",
       "    <tr>\n",
       "      <th>2</th>\n",
       "      <td>Champions</td>\n",
       "      <td>Product C</td>\n",
       "      <td>9145.66</td>\n",
       "    </tr>\n",
       "    <tr>\n",
       "      <th>3</th>\n",
       "      <td>Champions</td>\n",
       "      <td>Product D</td>\n",
       "      <td>6667.30</td>\n",
       "    </tr>\n",
       "    <tr>\n",
       "      <th>1</th>\n",
       "      <td>Champions</td>\n",
       "      <td>Product B</td>\n",
       "      <td>6301.43</td>\n",
       "    </tr>\n",
       "    <tr>\n",
       "      <th>0</th>\n",
       "      <td>Champions</td>\n",
       "      <td>Product A</td>\n",
       "      <td>5293.90</td>\n",
       "    </tr>\n",
       "    <tr>\n",
       "      <th>6</th>\n",
       "      <td>Frequent Spenders</td>\n",
       "      <td>Product C</td>\n",
       "      <td>18290.74</td>\n",
       "    </tr>\n",
       "  </tbody>\n",
       "</table>\n",
       "</div>"
      ],
      "text/plain": [
       "    Customer_Segment ProductInformation  TransactionAmount\n",
       "2          Champions          Product C            9145.66\n",
       "3          Champions          Product D            6667.30\n",
       "1          Champions          Product B            6301.43\n",
       "0          Champions          Product A            5293.90\n",
       "6  Frequent Spenders          Product C           18290.74"
      ]
     },
     "execution_count": 109,
     "metadata": {},
     "output_type": "execute_result"
    }
   ],
   "source": [
    "# let's merge segment data with original transactions\n",
    "segment_products = df.merge(rfm_df[['CustomerID', 'Customer_Segment']], on='CustomerID')\n",
    "\n",
    "# now aggregate product sales by segment\n",
    "segment_products = segment_products.groupby(['Customer_Segment', 'ProductInformation'])['TransactionAmount'].sum().reset_index()\n",
    "segment_products = segment_products.sort_values(['Customer_Segment', 'TransactionAmount'], ascending=[True, False]).round(2)\n",
    "\n",
    "segment_products.head()\n"
   ]
  },
  {
   "cell_type": "code",
   "execution_count": 110,
   "id": "fb07d029",
   "metadata": {},
   "outputs": [
    {
     "data": {
      "application/vnd.microsoft.datawrangler.viewer.v0+json": {
       "columns": [
        {
         "name": "index",
         "rawType": "int64",
         "type": "integer"
        },
        {
         "name": "Customer_Segment",
         "rawType": "object",
         "type": "string"
        },
        {
         "name": "Product A",
         "rawType": "float64",
         "type": "float"
        },
        {
         "name": "Product B",
         "rawType": "float64",
         "type": "float"
        },
        {
         "name": "Product C",
         "rawType": "float64",
         "type": "float"
        },
        {
         "name": "Product D",
         "rawType": "float64",
         "type": "float"
        }
       ],
       "conversionMethod": "pd.DataFrame",
       "ref": "70438489-3c5f-4e7f-89d2-61c2c3d1c8eb",
       "rows": [
        [
         "0",
         "Champions",
         "5293.9",
         "6301.43",
         "9145.66",
         "6667.3"
        ],
        [
         "1",
         "Frequent Spenders",
         "12946.49",
         "14115.11",
         "18290.74",
         "16316.33"
        ],
        [
         "2",
         "Loyal Customers",
         "45289.68",
         "49063.17",
         "54847.33",
         "44840.59"
        ],
        [
         "3",
         "Potential Loyalists",
         "53889.86",
         "53558.37",
         "62207.76",
         "60904.09"
        ]
       ],
       "shape": {
        "columns": 5,
        "rows": 4
       }
      },
      "text/html": [
       "<div>\n",
       "<style scoped>\n",
       "    .dataframe tbody tr th:only-of-type {\n",
       "        vertical-align: middle;\n",
       "    }\n",
       "\n",
       "    .dataframe tbody tr th {\n",
       "        vertical-align: top;\n",
       "    }\n",
       "\n",
       "    .dataframe thead th {\n",
       "        text-align: right;\n",
       "    }\n",
       "</style>\n",
       "<table border=\"1\" class=\"dataframe\">\n",
       "  <thead>\n",
       "    <tr style=\"text-align: right;\">\n",
       "      <th>ProductInformation</th>\n",
       "      <th>Customer_Segment</th>\n",
       "      <th>Product A</th>\n",
       "      <th>Product B</th>\n",
       "      <th>Product C</th>\n",
       "      <th>Product D</th>\n",
       "    </tr>\n",
       "  </thead>\n",
       "  <tbody>\n",
       "    <tr>\n",
       "      <th>0</th>\n",
       "      <td>Champions</td>\n",
       "      <td>5293.90</td>\n",
       "      <td>6301.43</td>\n",
       "      <td>9145.66</td>\n",
       "      <td>6667.30</td>\n",
       "    </tr>\n",
       "    <tr>\n",
       "      <th>1</th>\n",
       "      <td>Frequent Spenders</td>\n",
       "      <td>12946.49</td>\n",
       "      <td>14115.11</td>\n",
       "      <td>18290.74</td>\n",
       "      <td>16316.33</td>\n",
       "    </tr>\n",
       "    <tr>\n",
       "      <th>2</th>\n",
       "      <td>Loyal Customers</td>\n",
       "      <td>45289.68</td>\n",
       "      <td>49063.17</td>\n",
       "      <td>54847.33</td>\n",
       "      <td>44840.59</td>\n",
       "    </tr>\n",
       "    <tr>\n",
       "      <th>3</th>\n",
       "      <td>Potential Loyalists</td>\n",
       "      <td>53889.86</td>\n",
       "      <td>53558.37</td>\n",
       "      <td>62207.76</td>\n",
       "      <td>60904.09</td>\n",
       "    </tr>\n",
       "  </tbody>\n",
       "</table>\n",
       "</div>"
      ],
      "text/plain": [
       "ProductInformation     Customer_Segment  Product A  Product B  Product C  \\\n",
       "0                             Champions    5293.90    6301.43    9145.66   \n",
       "1                     Frequent Spenders   12946.49   14115.11   18290.74   \n",
       "2                       Loyal Customers   45289.68   49063.17   54847.33   \n",
       "3                   Potential Loyalists   53889.86   53558.37   62207.76   \n",
       "\n",
       "ProductInformation  Product D  \n",
       "0                     6667.30  \n",
       "1                    16316.33  \n",
       "2                    44840.59  \n",
       "3                    60904.09  "
      ]
     },
     "execution_count": 110,
     "metadata": {},
     "output_type": "execute_result"
    }
   ],
   "source": [
    "segment_count = segment_products.pivot_table(index='Customer_Segment', columns='ProductInformation', values='TransactionAmount', aggfunc='sum')\n",
    "segment_count = segment_count.fillna(0).reset_index()\n",
    "\n",
    "segment_count"
   ]
  },
  {
   "cell_type": "code",
   "execution_count": 111,
   "id": "9dc9dd3a",
   "metadata": {},
   "outputs": [
    {
     "data": {
      "image/png": "[encoded data removed]",
      "text/plain": [
       "<Figure size 1000x400 with 1 Axes>"
      ]
     },
     "metadata": {},
     "output_type": "display_data"
    }
   ],
   "source": [
    "plt.figure(figsize=(10, 4))\n",
    "sns.barplot(data=segment_count.melt(id_vars='Customer_Segment').sort_values('value', ascending=False),\n",
    "            x='Customer_Segment', \n",
    "            y='value', \n",
    "            hue='ProductInformation', \n",
    "            palette='Blues_r'\n",
    "            )\n",
    "\n",
    "\n",
    "plt.title('Product Sales by Segment')\n",
    "plt.xlabel('Customer Segment')\n",
    "plt.ylabel('Total')\n",
    "plt.xticks(rotation=0)\n",
    "plt.legend(loc='upper center', fontsize='small', ncol=4, framealpha=0)\n",
    "\n",
    "sns.despine()\n",
    "plt.tight_layout()\n",
    "plt.show()"
   ]
  },
  {
   "cell_type": "markdown",
   "id": "55e2e52b",
   "metadata": {},
   "source": [
    "-   ## Key Insights:\n",
    "\n",
    "1. Potential Loyalists Are the Top-Contributing Segment\n",
    "\n",
    "    -   Highest total sales across all products come from Potential Loyalists.\n",
    "    -   Product C and D dominate in this group, followed closely by Product A and B.\n",
    "\n",
    "2. Loyal Customers Drive Significant Revenue\n",
    "\n",
    "    -   The second-highest contributing segment, also purchasing across all products.\n",
    "    -   Product C again leads, but all products have solid performance.\n",
    "\n",
    "3. Frequent Spenders Show Moderate Sales\n",
    "\n",
    "    -   This segment contributes less than the two above, but consistently across products.\n",
    "    -   They may purchase more frequently but spend less per transaction or focus on fewer products.\n",
    "\n",
    "4. Champions Have Low Total Sales\n",
    "\n",
    "    -   Surprisingly, Champions show the lowest sales volume across all products, despite typically being considered top customers."
   ]
  },
  {
   "cell_type": "markdown",
   "id": "8081a248",
   "metadata": {},
   "source": [
    "------"
   ]
  },
  {
   "cell_type": "markdown",
   "id": "19e279f3",
   "metadata": {},
   "source": [
    "Now I will create a new column in your DataFrame called Value Segment, which categorizes each customer based on their RFM score into:\n",
    "\n",
    "-   Low-Value\n",
    "\n",
    "-   Mid-Value\n",
    "\n",
    "-   High-Value"
   ]
  },
  {
   "cell_type": "code",
   "execution_count": 112,
   "id": "3a0ea8ae",
   "metadata": {},
   "outputs": [
    {
     "data": {
      "application/vnd.microsoft.datawrangler.viewer.v0+json": {
       "columns": [
        {
         "name": "index",
         "rawType": "int64",
         "type": "integer"
        },
        {
         "name": "CustomerID",
         "rawType": "object",
         "type": "string"
        },
        {
         "name": "Recency",
         "rawType": "int64",
         "type": "integer"
        },
        {
         "name": "Frequency",
         "rawType": "int64",
         "type": "integer"
        },
        {
         "name": "Monetary",
         "rawType": "float64",
         "type": "float"
        },
        {
         "name": "R_Score",
         "rawType": "int32",
         "type": "integer"
        },
        {
         "name": "F_Score",
         "rawType": "int32",
         "type": "integer"
        },
        {
         "name": "M_Score",
         "rawType": "int32",
         "type": "integer"
        },
        {
         "name": "RFM_Overall",
         "rawType": "int32",
         "type": "integer"
        },
        {
         "name": "Cusomer_Segment",
         "rawType": "object",
         "type": "string"
        },
        {
         "name": "Customer_Segment",
         "rawType": "object",
         "type": "string"
        },
        {
         "name": "Value Segment",
         "rawType": "category",
         "type": "unknown"
        }
       ],
       "conversionMethod": "pd.DataFrame",
       "ref": "0c14b4fa-6c90-4c4a-82f3-3e0da43e5275",
       "rows": [
        [
         "0",
         "1011",
         "33",
         "2",
         "1129.02",
         "3",
         "3",
         "5",
         "11",
         "Loyal Customers",
         "Loyal Customers",
         "High-Value"
        ],
        [
         "1",
         "1025",
         "21",
         "1",
         "359.29",
         "4",
         "1",
         "2",
         "7",
         "Potential Loyalists",
         "Potential Loyalists",
         "Mid-Value"
        ]
       ],
       "shape": {
        "columns": 11,
        "rows": 2
       }
      },
      "text/html": [
       "<div>\n",
       "<style scoped>\n",
       "    .dataframe tbody tr th:only-of-type {\n",
       "        vertical-align: middle;\n",
       "    }\n",
       "\n",
       "    .dataframe tbody tr th {\n",
       "        vertical-align: top;\n",
       "    }\n",
       "\n",
       "    .dataframe thead th {\n",
       "        text-align: right;\n",
       "    }\n",
       "</style>\n",
       "<table border=\"1\" class=\"dataframe\">\n",
       "  <thead>\n",
       "    <tr style=\"text-align: right;\">\n",
       "      <th></th>\n",
       "      <th>CustomerID</th>\n",
       "      <th>Recency</th>\n",
       "      <th>Frequency</th>\n",
       "      <th>Monetary</th>\n",
       "      <th>R_Score</th>\n",
       "      <th>F_Score</th>\n",
       "      <th>M_Score</th>\n",
       "      <th>RFM_Overall</th>\n",
       "      <th>Cusomer_Segment</th>\n",
       "      <th>Customer_Segment</th>\n",
       "      <th>Value Segment</th>\n",
       "    </tr>\n",
       "  </thead>\n",
       "  <tbody>\n",
       "    <tr>\n",
       "      <th>0</th>\n",
       "      <td>1011</td>\n",
       "      <td>33</td>\n",
       "      <td>2</td>\n",
       "      <td>1129.02</td>\n",
       "      <td>3</td>\n",
       "      <td>3</td>\n",
       "      <td>5</td>\n",
       "      <td>11</td>\n",
       "      <td>Loyal Customers</td>\n",
       "      <td>Loyal Customers</td>\n",
       "      <td>High-Value</td>\n",
       "    </tr>\n",
       "    <tr>\n",
       "      <th>1</th>\n",
       "      <td>1025</td>\n",
       "      <td>21</td>\n",
       "      <td>1</td>\n",
       "      <td>359.29</td>\n",
       "      <td>4</td>\n",
       "      <td>1</td>\n",
       "      <td>2</td>\n",
       "      <td>7</td>\n",
       "      <td>Potential Loyalists</td>\n",
       "      <td>Potential Loyalists</td>\n",
       "      <td>Mid-Value</td>\n",
       "    </tr>\n",
       "  </tbody>\n",
       "</table>\n",
       "</div>"
      ],
      "text/plain": [
       "  CustomerID  Recency  Frequency  Monetary  R_Score  F_Score  M_Score  \\\n",
       "0       1011       33          2   1129.02        3        3        5   \n",
       "1       1025       21          1    359.29        4        1        2   \n",
       "\n",
       "   RFM_Overall      Cusomer_Segment     Customer_Segment Value Segment  \n",
       "0           11      Loyal Customers      Loyal Customers    High-Value  \n",
       "1            7  Potential Loyalists  Potential Loyalists     Mid-Value  "
      ]
     },
     "execution_count": 112,
     "metadata": {},
     "output_type": "execute_result"
    }
   ],
   "source": [
    "# Create RFM segments based on the RFM score\n",
    "segment_labels = ['Low-Value', 'Mid-Value', 'High-Value']\n",
    "rfm_df['Value Segment'] = pd.qcut(rfm_df['RFM_Overall'], q=3, labels=segment_labels)\n",
    "\n",
    "rfm_df.head(2)"
   ]
  },
  {
   "cell_type": "code",
   "execution_count": 113,
   "id": "30d96e99",
   "metadata": {},
   "outputs": [
    {
     "data": {
      "application/vnd.microsoft.datawrangler.viewer.v0+json": {
       "columns": [
        {
         "name": "index",
         "rawType": "int64",
         "type": "integer"
        },
        {
         "name": "Value Segment",
         "rawType": "category",
         "type": "unknown"
        },
        {
         "name": "Customer Count",
         "rawType": "int64",
         "type": "integer"
        }
       ],
       "conversionMethod": "pd.DataFrame",
       "ref": "f84d0b49-6248-474b-a1f1-1f32c1816b80",
       "rows": [
        [
         "0",
         "Low-Value",
         "369"
        ],
        [
         "1",
         "Mid-Value",
         "318"
        ],
        [
         "2",
         "High-Value",
         "259"
        ]
       ],
       "shape": {
        "columns": 2,
        "rows": 3
       }
      },
      "text/html": [
       "<div>\n",
       "<style scoped>\n",
       "    .dataframe tbody tr th:only-of-type {\n",
       "        vertical-align: middle;\n",
       "    }\n",
       "\n",
       "    .dataframe tbody tr th {\n",
       "        vertical-align: top;\n",
       "    }\n",
       "\n",
       "    .dataframe thead th {\n",
       "        text-align: right;\n",
       "    }\n",
       "</style>\n",
       "<table border=\"1\" class=\"dataframe\">\n",
       "  <thead>\n",
       "    <tr style=\"text-align: right;\">\n",
       "      <th></th>\n",
       "      <th>Value Segment</th>\n",
       "      <th>Customer Count</th>\n",
       "    </tr>\n",
       "  </thead>\n",
       "  <tbody>\n",
       "    <tr>\n",
       "      <th>0</th>\n",
       "      <td>Low-Value</td>\n",
       "      <td>369</td>\n",
       "    </tr>\n",
       "    <tr>\n",
       "      <th>1</th>\n",
       "      <td>Mid-Value</td>\n",
       "      <td>318</td>\n",
       "    </tr>\n",
       "    <tr>\n",
       "      <th>2</th>\n",
       "      <td>High-Value</td>\n",
       "      <td>259</td>\n",
       "    </tr>\n",
       "  </tbody>\n",
       "</table>\n",
       "</div>"
      ],
      "text/plain": [
       "  Value Segment  Customer Count\n",
       "0     Low-Value             369\n",
       "1     Mid-Value             318\n",
       "2    High-Value             259"
      ]
     },
     "execution_count": 113,
     "metadata": {},
     "output_type": "execute_result"
    }
   ],
   "source": [
    "customer_value_count = rfm_df['Value Segment'].value_counts().reset_index()\n",
    "customer_value_count.columns = ['Value Segment', 'Customer Count']\n",
    "customer_value_count"
   ]
  },
  {
   "cell_type": "code",
   "execution_count": 114,
   "id": "fdfaba2c",
   "metadata": {},
   "outputs": [
    {
     "data": {
      "image/png": "[encoded data removed]",
      "text/plain": [
       "<Figure size 800x400 with 1 Axes>"
      ]
     },
     "metadata": {},
     "output_type": "display_data"
    }
   ],
   "source": [
    "plt.figure(figsize=(8, 4))\n",
    "sns.barplot(\n",
    "    data=customer_value_count,\n",
    "    x='Customer Count',\n",
    "    y='Value Segment',\n",
    "    palette='crest_r'\n",
    "    \n",
    "    )\n",
    "\n",
    "plt.title('Customer Count by Value Segment')\n",
    "\n",
    "sns.despine()\n",
    "plt.tight_layout()\n",
    "plt.show()"
   ]
  },
  {
   "cell_type": "markdown",
   "id": "dfefe5d3",
   "metadata": {},
   "source": [
    "-   ## Key Insights:\n",
    "\n",
    "1. Most Customers Are Low-Value\n",
    "\n",
    "    -   Low-Value segment has the highest number of customers, above 350.\n",
    "\n",
    "    -This suggests a large portion of your customer base scores low on Recency, Frequency, or Monetary value.\n",
    "\n",
    "\n",
    "2. Mid-Value Segment Is Moderate\n",
    "\n",
    "    -   The Mid-Value group has fewer customers than Low-Value but still a significant share (around 300).\n",
    "\n",
    "    -   These customers are already somewhat engaged or spending—there’s growth potential here.\n",
    "\n",
    "\n",
    "3. High-Value Segment Is the Smallest\n",
    "\n",
    "    -   The High-Value group (approx. 260) is the smallest, but likely contributes disproportionately to revenue.\n",
    "\n",
    "    -   These are your best customers—frequent buyers, recent activity, and high spenders.\n",
    "\n",
    "--------"
   ]
  },
  {
   "cell_type": "markdown",
   "id": "88a8001f",
   "metadata": {},
   "source": [
    "-   Now we'll analyze how many customers from each behavioral or product segment fall into each RFM value group"
   ]
  },
  {
   "cell_type": "code",
   "execution_count": 115,
   "id": "968ff2fe",
   "metadata": {},
   "outputs": [],
   "source": [
    "segment_product_counts = rfm_df.groupby(['Value Segment', 'Customer_Segment']).size().reset_index(name='Count')\n"
   ]
  },
  {
   "cell_type": "code",
   "execution_count": 116,
   "id": "843957d2",
   "metadata": {},
   "outputs": [],
   "source": [
    "import plotly.express as px\n",
    "import plotly.io as pio\n",
    "import plotly.io as pio\n",
    "pio.renderers.default = \"browser\" \n",
    "\n",
    "fig_treemap_segment_product = px.treemap(segment_product_counts, \n",
    "                                         path=['Value Segment', 'Customer_Segment'], \n",
    "                                         values='Count',\n",
    "                                         color='Value Segment', color_discrete_sequence=px.colors.qualitative.Pastel,\n",
    "                                         title='RFM Customer Segments by Value')\n",
    "fig_treemap_segment_product.show()"
   ]
  },
  {
   "cell_type": "markdown",
   "id": "e5c9fcc8",
   "metadata": {},
   "source": [
    "\n",
    "<img src=\"Treemap Plot.png\" width=\"1000\" height=\"600\">"
   ]
  },
  {
   "cell_type": "markdown",
   "id": "b29ca191",
   "metadata": {},
   "source": [
    "\n",
    "In conclusion, RFM analysis is a powerful and insightful method for segmenting customers based on their Recency, Frequency, and Monetary behavior. By analyzing these key metrics, businesses can gain a deeper understanding of their customer base, identify high-value segments, and tailor targeted marketing strategies to improve customer engagement, retention, and ultimately, drive revenue. The visualizations of RFM scores, segment distributions, and spending patterns provide actionable insights for making data-driven decisions."
   ]
  },
  {
   "cell_type": "markdown",
   "id": "be2976df",
   "metadata": {},
   "source": [
    "**Prepared by**     :   Mohamed Fawzi\n",
    "\n",
    "**Email**           :   modyreturn@gmail.com\n",
    "\n",
    "**Github**          :   https://github.com/modyreturn\n"
   ]
  }
 ],
 "metadata": {
  "kernelspec": {
   "display_name": "data_projects",
   "language": "python",
   "name": "python3"
  },
  "language_info": {
   "codemirror_mode": {
    "name": "ipython",
    "version": 3
   },
   "file_extension": ".py",
   "mimetype": "text/x-python",
   "name": "python",
   "nbconvert_exporter": "python",
   "pygments_lexer": "ipython3",
   "version": "3.12.3"
  }
 },
 "nbformat": 4,
 "nbformat_minor": 5
}
