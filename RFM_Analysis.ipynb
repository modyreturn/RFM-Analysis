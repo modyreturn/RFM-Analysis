{
 "cells": [
  {
   "cell_type": "code",
   "execution_count": 2,
   "id": "8c955b92",
   "metadata": {},
   "outputs": [
    {
     "data": {
      "application/vnd.microsoft.datawrangler.viewer.v0+json": {
       "columns": [
        {
         "name": "index",
         "rawType": "int64",
         "type": "integer"
        },
        {
         "name": "CustomerID",
         "rawType": "int64",
         "type": "integer"
        },
        {
         "name": "PurchaseDate",
         "rawType": "object",
         "type": "string"
        },
        {
         "name": "TransactionAmount",
         "rawType": "float64",
         "type": "float"
        },
        {
         "name": "ProductInformation",
         "rawType": "object",
         "type": "string"
        },
        {
         "name": "OrderID",
         "rawType": "int64",
         "type": "integer"
        },
        {
         "name": "Location",
         "rawType": "object",
         "type": "string"
        }
       ],
       "conversionMethod": "pd.DataFrame",
       "ref": "8a6f548a-2168-4965-9ae8-77966598a2db",
       "rows": [
        [
         "0",
         "8814",
         "2023-04-11",
         "943.31",
         "Product C",
         "890075",
         "Tokyo"
        ],
        [
         "1",
         "2188",
         "2023-04-11",
         "463.7",
         "Product A",
         "176819",
         "London"
        ],
        [
         "2",
         "4608",
         "2023-04-11",
         "80.28",
         "Product A",
         "340062",
         "New York"
        ],
        [
         "3",
         "2559",
         "2023-04-11",
         "221.29",
         "Product A",
         "239145",
         "London"
        ],
        [
         "4",
         "9482",
         "2023-04-11",
         "739.56",
         "Product A",
         "194545",
         "Paris"
        ]
       ],
       "shape": {
        "columns": 6,
        "rows": 5
       }
      },
      "text/html": [
       "<div>\n",
       "<style scoped>\n",
       "    .dataframe tbody tr th:only-of-type {\n",
       "        vertical-align: middle;\n",
       "    }\n",
       "\n",
       "    .dataframe tbody tr th {\n",
       "        vertical-align: top;\n",
       "    }\n",
       "\n",
       "    .dataframe thead th {\n",
       "        text-align: right;\n",
       "    }\n",
       "</style>\n",
       "<table border=\"1\" class=\"dataframe\">\n",
       "  <thead>\n",
       "    <tr style=\"text-align: right;\">\n",
       "      <th></th>\n",
       "      <th>CustomerID</th>\n",
       "      <th>PurchaseDate</th>\n",
       "      <th>TransactionAmount</th>\n",
       "      <th>ProductInformation</th>\n",
       "      <th>OrderID</th>\n",
       "      <th>Location</th>\n",
       "    </tr>\n",
       "  </thead>\n",
       "  <tbody>\n",
       "    <tr>\n",
       "      <th>0</th>\n",
       "      <td>8814</td>\n",
       "      <td>2023-04-11</td>\n",
       "      <td>943.31</td>\n",
       "      <td>Product C</td>\n",
       "      <td>890075</td>\n",
       "      <td>Tokyo</td>\n",
       "    </tr>\n",
       "    <tr>\n",
       "      <th>1</th>\n",
       "      <td>2188</td>\n",
       "      <td>2023-04-11</td>\n",
       "      <td>463.70</td>\n",
       "      <td>Product A</td>\n",
       "      <td>176819</td>\n",
       "      <td>London</td>\n",
       "    </tr>\n",
       "    <tr>\n",
       "      <th>2</th>\n",
       "      <td>4608</td>\n",
       "      <td>2023-04-11</td>\n",
       "      <td>80.28</td>\n",
       "      <td>Product A</td>\n",
       "      <td>340062</td>\n",
       "      <td>New York</td>\n",
       "    </tr>\n",
       "    <tr>\n",
       "      <th>3</th>\n",
       "      <td>2559</td>\n",
       "      <td>2023-04-11</td>\n",
       "      <td>221.29</td>\n",
       "      <td>Product A</td>\n",
       "      <td>239145</td>\n",
       "      <td>London</td>\n",
       "    </tr>\n",
       "    <tr>\n",
       "      <th>4</th>\n",
       "      <td>9482</td>\n",
       "      <td>2023-04-11</td>\n",
       "      <td>739.56</td>\n",
       "      <td>Product A</td>\n",
       "      <td>194545</td>\n",
       "      <td>Paris</td>\n",
       "    </tr>\n",
       "  </tbody>\n",
       "</table>\n",
       "</div>"
      ],
      "text/plain": [
       "   CustomerID PurchaseDate  TransactionAmount ProductInformation  OrderID  \\\n",
       "0        8814   2023-04-11             943.31          Product C   890075   \n",
       "1        2188   2023-04-11             463.70          Product A   176819   \n",
       "2        4608   2023-04-11              80.28          Product A   340062   \n",
       "3        2559   2023-04-11             221.29          Product A   239145   \n",
       "4        9482   2023-04-11             739.56          Product A   194545   \n",
       "\n",
       "   Location  \n",
       "0     Tokyo  \n",
       "1    London  \n",
       "2  New York  \n",
       "3    London  \n",
       "4     Paris  "
      ]
     },
     "execution_count": 2,
     "metadata": {},
     "output_type": "execute_result"
    }
   ],
   "source": [
    "import pandas as pd\n",
    "import numpy as np\n",
    "import matplotlib.pyplot as plt\n",
    "import seaborn as sns\n",
    "from matplotlib.ticker import FuncFormatter\n",
    "\n",
    "import warnings\n",
    "warnings.filterwarnings(\"ignore\")\n",
    "\n",
    "df = pd.read_csv(r'C:\\Users\\Mohamed Fawzi\\Desktop\\RFM Analysis\\rfm_data.csv')\n",
    "df.head()"
   ]
  },
  {
   "cell_type": "markdown",
   "id": "d4fc1da5",
   "metadata": {},
   "source": [
    "### Preparing Data"
   ]
  },
  {
   "cell_type": "code",
   "execution_count": 3,
   "id": "6bf61256",
   "metadata": {},
   "outputs": [
    {
     "data": {
      "application/vnd.microsoft.datawrangler.viewer.v0+json": {
       "columns": [
        {
         "name": "index",
         "rawType": "int64",
         "type": "integer"
        },
        {
         "name": "CustomerID",
         "rawType": "object",
         "type": "string"
        },
        {
         "name": "PurchaseDate",
         "rawType": "datetime64[ns]",
         "type": "datetime"
        },
        {
         "name": "TransactionAmount",
         "rawType": "float64",
         "type": "float"
        },
        {
         "name": "ProductInformation",
         "rawType": "object",
         "type": "string"
        },
        {
         "name": "OrderID",
         "rawType": "int64",
         "type": "integer"
        },
        {
         "name": "Location",
         "rawType": "object",
         "type": "string"
        }
       ],
       "conversionMethod": "pd.DataFrame",
       "ref": "60139ada-b07c-4007-88aa-f5be3740e18d",
       "rows": [
        [
         "0",
         "8814",
         "2023-04-11 00:00:00",
         "943.31",
         "Product C",
         "890075",
         "Tokyo"
        ],
        [
         "1",
         "2188",
         "2023-04-11 00:00:00",
         "463.7",
         "Product A",
         "176819",
         "London"
        ],
        [
         "2",
         "4608",
         "2023-04-11 00:00:00",
         "80.28",
         "Product A",
         "340062",
         "New York"
        ],
        [
         "3",
         "2559",
         "2023-04-11 00:00:00",
         "221.29",
         "Product A",
         "239145",
         "London"
        ],
        [
         "4",
         "9482",
         "2023-04-11 00:00:00",
         "739.56",
         "Product A",
         "194545",
         "Paris"
        ]
       ],
       "shape": {
        "columns": 6,
        "rows": 5
       }
      },
      "text/html": [
       "<div>\n",
       "<style scoped>\n",
       "    .dataframe tbody tr th:only-of-type {\n",
       "        vertical-align: middle;\n",
       "    }\n",
       "\n",
       "    .dataframe tbody tr th {\n",
       "        vertical-align: top;\n",
       "    }\n",
       "\n",
       "    .dataframe thead th {\n",
       "        text-align: right;\n",
       "    }\n",
       "</style>\n",
       "<table border=\"1\" class=\"dataframe\">\n",
       "  <thead>\n",
       "    <tr style=\"text-align: right;\">\n",
       "      <th></th>\n",
       "      <th>CustomerID</th>\n",
       "      <th>PurchaseDate</th>\n",
       "      <th>TransactionAmount</th>\n",
       "      <th>ProductInformation</th>\n",
       "      <th>OrderID</th>\n",
       "      <th>Location</th>\n",
       "    </tr>\n",
       "  </thead>\n",
       "  <tbody>\n",
       "    <tr>\n",
       "      <th>0</th>\n",
       "      <td>8814</td>\n",
       "      <td>2023-04-11</td>\n",
       "      <td>943.31</td>\n",
       "      <td>Product C</td>\n",
       "      <td>890075</td>\n",
       "      <td>Tokyo</td>\n",
       "    </tr>\n",
       "    <tr>\n",
       "      <th>1</th>\n",
       "      <td>2188</td>\n",
       "      <td>2023-04-11</td>\n",
       "      <td>463.70</td>\n",
       "      <td>Product A</td>\n",
       "      <td>176819</td>\n",
       "      <td>London</td>\n",
       "    </tr>\n",
       "    <tr>\n",
       "      <th>2</th>\n",
       "      <td>4608</td>\n",
       "      <td>2023-04-11</td>\n",
       "      <td>80.28</td>\n",
       "      <td>Product A</td>\n",
       "      <td>340062</td>\n",
       "      <td>New York</td>\n",
       "    </tr>\n",
       "    <tr>\n",
       "      <th>3</th>\n",
       "      <td>2559</td>\n",
       "      <td>2023-04-11</td>\n",
       "      <td>221.29</td>\n",
       "      <td>Product A</td>\n",
       "      <td>239145</td>\n",
       "      <td>London</td>\n",
       "    </tr>\n",
       "    <tr>\n",
       "      <th>4</th>\n",
       "      <td>9482</td>\n",
       "      <td>2023-04-11</td>\n",
       "      <td>739.56</td>\n",
       "      <td>Product A</td>\n",
       "      <td>194545</td>\n",
       "      <td>Paris</td>\n",
       "    </tr>\n",
       "  </tbody>\n",
       "</table>\n",
       "</div>"
      ],
      "text/plain": [
       "  CustomerID PurchaseDate  TransactionAmount ProductInformation  OrderID  \\\n",
       "0       8814   2023-04-11             943.31          Product C   890075   \n",
       "1       2188   2023-04-11             463.70          Product A   176819   \n",
       "2       4608   2023-04-11              80.28          Product A   340062   \n",
       "3       2559   2023-04-11             221.29          Product A   239145   \n",
       "4       9482   2023-04-11             739.56          Product A   194545   \n",
       "\n",
       "   Location  \n",
       "0     Tokyo  \n",
       "1    London  \n",
       "2  New York  \n",
       "3    London  \n",
       "4     Paris  "
      ]
     },
     "execution_count": 3,
     "metadata": {},
     "output_type": "execute_result"
    }
   ],
   "source": [
    "#convert CustomerID to string\n",
    "df['CustomerID'] = df['CustomerID'].astype(str)\n",
    "\n",
    "#convert PurchaseDate to datetime\n",
    "df['PurchaseDate'] = pd.to_datetime(df['PurchaseDate'])\n",
    "\n",
    "#check for null values\n",
    "df.isnull().sum()\n",
    "\n",
    "#check for duplicates\n",
    "df.drop_duplicates(inplace=True)\n",
    "\n",
    "df.head()"
   ]
  },
  {
   "cell_type": "code",
   "execution_count": 4,
   "id": "cf7c0d8e",
   "metadata": {},
   "outputs": [
    {
     "data": {
      "application/vnd.microsoft.datawrangler.viewer.v0+json": {
       "columns": [
        {
         "name": "index",
         "rawType": "object",
         "type": "string"
        },
        {
         "name": "PurchaseDate",
         "rawType": "object",
         "type": "unknown"
        },
        {
         "name": "TransactionAmount",
         "rawType": "float64",
         "type": "float"
        },
        {
         "name": "OrderID",
         "rawType": "float64",
         "type": "float"
        }
       ],
       "conversionMethod": "pd.DataFrame",
       "ref": "040d4a1e-c610-4d7c-b12c-0803b020e0a3",
       "rows": [
        [
         "count",
         "1000",
         "1000.0",
         "1000.0"
        ],
        [
         "mean",
         "2023-05-10 07:27:50.400000",
         "513.67781",
         "554071.398"
        ],
        [
         "min",
         "2023-04-11 00:00:00",
         "12.13",
         "100096.0"
        ],
        [
         "25%",
         "2023-04-26 00:00:00",
         "257.12",
         "313152.0"
        ],
        [
         "50%",
         "2023-05-09 00:00:00",
         "523.565",
         "564671.5"
        ],
        [
         "75%",
         "2023-05-26 00:00:00",
         "759.86",
         "783052.25"
        ],
        [
         "max",
         "2023-06-10 00:00:00",
         "999.44",
         "999695.0"
        ],
        [
         "std",
         null,
         "286.09870043482255",
         "264695.4488140255"
        ]
       ],
       "shape": {
        "columns": 3,
        "rows": 8
       }
      },
      "text/html": [
       "<div>\n",
       "<style scoped>\n",
       "    .dataframe tbody tr th:only-of-type {\n",
       "        vertical-align: middle;\n",
       "    }\n",
       "\n",
       "    .dataframe tbody tr th {\n",
       "        vertical-align: top;\n",
       "    }\n",
       "\n",
       "    .dataframe thead th {\n",
       "        text-align: right;\n",
       "    }\n",
       "</style>\n",
       "<table border=\"1\" class=\"dataframe\">\n",
       "  <thead>\n",
       "    <tr style=\"text-align: right;\">\n",
       "      <th></th>\n",
       "      <th>PurchaseDate</th>\n",
       "      <th>TransactionAmount</th>\n",
       "      <th>OrderID</th>\n",
       "    </tr>\n",
       "  </thead>\n",
       "  <tbody>\n",
       "    <tr>\n",
       "      <th>count</th>\n",
       "      <td>1000</td>\n",
       "      <td>1000.00000</td>\n",
       "      <td>1000.000000</td>\n",
       "    </tr>\n",
       "    <tr>\n",
       "      <th>mean</th>\n",
       "      <td>2023-05-10 07:27:50.400000</td>\n",
       "      <td>513.67781</td>\n",
       "      <td>554071.398000</td>\n",
       "    </tr>\n",
       "    <tr>\n",
       "      <th>min</th>\n",
       "      <td>2023-04-11 00:00:00</td>\n",
       "      <td>12.13000</td>\n",
       "      <td>100096.000000</td>\n",
       "    </tr>\n",
       "    <tr>\n",
       "      <th>25%</th>\n",
       "      <td>2023-04-26 00:00:00</td>\n",
       "      <td>257.12000</td>\n",
       "      <td>313152.000000</td>\n",
       "    </tr>\n",
       "    <tr>\n",
       "      <th>50%</th>\n",
       "      <td>2023-05-09 00:00:00</td>\n",
       "      <td>523.56500</td>\n",
       "      <td>564671.500000</td>\n",
       "    </tr>\n",
       "    <tr>\n",
       "      <th>75%</th>\n",
       "      <td>2023-05-26 00:00:00</td>\n",
       "      <td>759.86000</td>\n",
       "      <td>783052.250000</td>\n",
       "    </tr>\n",
       "    <tr>\n",
       "      <th>max</th>\n",
       "      <td>2023-06-10 00:00:00</td>\n",
       "      <td>999.44000</td>\n",
       "      <td>999695.000000</td>\n",
       "    </tr>\n",
       "    <tr>\n",
       "      <th>std</th>\n",
       "      <td>NaN</td>\n",
       "      <td>286.09870</td>\n",
       "      <td>264695.448814</td>\n",
       "    </tr>\n",
       "  </tbody>\n",
       "</table>\n",
       "</div>"
      ],
      "text/plain": [
       "                     PurchaseDate  TransactionAmount        OrderID\n",
       "count                        1000         1000.00000    1000.000000\n",
       "mean   2023-05-10 07:27:50.400000          513.67781  554071.398000\n",
       "min           2023-04-11 00:00:00           12.13000  100096.000000\n",
       "25%           2023-04-26 00:00:00          257.12000  313152.000000\n",
       "50%           2023-05-09 00:00:00          523.56500  564671.500000\n",
       "75%           2023-05-26 00:00:00          759.86000  783052.250000\n",
       "max           2023-06-10 00:00:00          999.44000  999695.000000\n",
       "std                           NaN          286.09870  264695.448814"
      ]
     },
     "execution_count": 4,
     "metadata": {},
     "output_type": "execute_result"
    }
   ],
   "source": [
    "df.describe()"
   ]
  }
 ],
 "metadata": {
  "kernelspec": {
   "display_name": "data_projects",
   "language": "python",
   "name": "python3"
  },
  "language_info": {
   "codemirror_mode": {
    "name": "ipython",
    "version": 3
   },
   "file_extension": ".py",
   "mimetype": "text/x-python",
   "name": "python",
   "nbconvert_exporter": "python",
   "pygments_lexer": "ipython3",
   "version": "3.12.3"
  }
 },
 "nbformat": 4,
 "nbformat_minor": 5
}
