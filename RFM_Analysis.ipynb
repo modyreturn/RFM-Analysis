{
 "cells": [
  {
   "cell_type": "code",
   "execution_count": 151,
   "id": "8c955b92",
   "metadata": {},
   "outputs": [
    {
     "data": {
      "application/vnd.microsoft.datawrangler.viewer.v0+json": {
       "columns": [
        {
         "name": "index",
         "rawType": "int64",
         "type": "integer"
        },
        {
         "name": "CustomerID",
         "rawType": "int64",
         "type": "integer"
        },
        {
         "name": "PurchaseDate",
         "rawType": "object",
         "type": "string"
        },
        {
         "name": "TransactionAmount",
         "rawType": "float64",
         "type": "float"
        },
        {
         "name": "ProductInformation",
         "rawType": "object",
         "type": "string"
        },
        {
         "name": "OrderID",
         "rawType": "int64",
         "type": "integer"
        },
        {
         "name": "Location",
         "rawType": "object",
         "type": "string"
        }
       ],
       "conversionMethod": "pd.DataFrame",
       "ref": "cbb9c3f4-f138-45b9-bd72-e8465ccee7cc",
       "rows": [
        [
         "0",
         "8814",
         "2023-04-11",
         "943.31",
         "Product C",
         "890075",
         "Tokyo"
        ],
        [
         "1",
         "2188",
         "2023-04-11",
         "463.7",
         "Product A",
         "176819",
         "London"
        ],
        [
         "2",
         "4608",
         "2023-04-11",
         "80.28",
         "Product A",
         "340062",
         "New York"
        ],
        [
         "3",
         "2559",
         "2023-04-11",
         "221.29",
         "Product A",
         "239145",
         "London"
        ],
        [
         "4",
         "9482",
         "2023-04-11",
         "739.56",
         "Product A",
         "194545",
         "Paris"
        ]
       ],
       "shape": {
        "columns": 6,
        "rows": 5
       }
      },
      "text/html": [
       "<div>\n",
       "<style scoped>\n",
       "    .dataframe tbody tr th:only-of-type {\n",
       "        vertical-align: middle;\n",
       "    }\n",
       "\n",
       "    .dataframe tbody tr th {\n",
       "        vertical-align: top;\n",
       "    }\n",
       "\n",
       "    .dataframe thead th {\n",
       "        text-align: right;\n",
       "    }\n",
       "</style>\n",
       "<table border=\"1\" class=\"dataframe\">\n",
       "  <thead>\n",
       "    <tr style=\"text-align: right;\">\n",
       "      <th></th>\n",
       "      <th>CustomerID</th>\n",
       "      <th>PurchaseDate</th>\n",
       "      <th>TransactionAmount</th>\n",
       "      <th>ProductInformation</th>\n",
       "      <th>OrderID</th>\n",
       "      <th>Location</th>\n",
       "    </tr>\n",
       "  </thead>\n",
       "  <tbody>\n",
       "    <tr>\n",
       "      <th>0</th>\n",
       "      <td>8814</td>\n",
       "      <td>2023-04-11</td>\n",
       "      <td>943.31</td>\n",
       "      <td>Product C</td>\n",
       "      <td>890075</td>\n",
       "      <td>Tokyo</td>\n",
       "    </tr>\n",
       "    <tr>\n",
       "      <th>1</th>\n",
       "      <td>2188</td>\n",
       "      <td>2023-04-11</td>\n",
       "      <td>463.70</td>\n",
       "      <td>Product A</td>\n",
       "      <td>176819</td>\n",
       "      <td>London</td>\n",
       "    </tr>\n",
       "    <tr>\n",
       "      <th>2</th>\n",
       "      <td>4608</td>\n",
       "      <td>2023-04-11</td>\n",
       "      <td>80.28</td>\n",
       "      <td>Product A</td>\n",
       "      <td>340062</td>\n",
       "      <td>New York</td>\n",
       "    </tr>\n",
       "    <tr>\n",
       "      <th>3</th>\n",
       "      <td>2559</td>\n",
       "      <td>2023-04-11</td>\n",
       "      <td>221.29</td>\n",
       "      <td>Product A</td>\n",
       "      <td>239145</td>\n",
       "      <td>London</td>\n",
       "    </tr>\n",
       "    <tr>\n",
       "      <th>4</th>\n",
       "      <td>9482</td>\n",
       "      <td>2023-04-11</td>\n",
       "      <td>739.56</td>\n",
       "      <td>Product A</td>\n",
       "      <td>194545</td>\n",
       "      <td>Paris</td>\n",
       "    </tr>\n",
       "  </tbody>\n",
       "</table>\n",
       "</div>"
      ],
      "text/plain": [
       "   CustomerID PurchaseDate  TransactionAmount ProductInformation  OrderID  \\\n",
       "0        8814   2023-04-11             943.31          Product C   890075   \n",
       "1        2188   2023-04-11             463.70          Product A   176819   \n",
       "2        4608   2023-04-11              80.28          Product A   340062   \n",
       "3        2559   2023-04-11             221.29          Product A   239145   \n",
       "4        9482   2023-04-11             739.56          Product A   194545   \n",
       "\n",
       "   Location  \n",
       "0     Tokyo  \n",
       "1    London  \n",
       "2  New York  \n",
       "3    London  \n",
       "4     Paris  "
      ]
     },
     "execution_count": 151,
     "metadata": {},
     "output_type": "execute_result"
    }
   ],
   "source": [
    "import pandas as pd\n",
    "import numpy as np\n",
    "import matplotlib.pyplot as plt\n",
    "import seaborn as sns\n",
    "from matplotlib.ticker import FuncFormatter\n",
    "\n",
    "import warnings\n",
    "warnings.filterwarnings(\"ignore\")\n",
    "\n",
    "df = pd.read_csv(r'C:\\Users\\Mohamed Fawzi\\Desktop\\RFM Analysis\\rfm_data.csv')\n",
    "df.head()"
   ]
  },
  {
   "cell_type": "markdown",
   "id": "d4fc1da5",
   "metadata": {},
   "source": [
    "### Preparing Data"
   ]
  },
  {
   "cell_type": "code",
   "execution_count": 152,
   "id": "6bf61256",
   "metadata": {},
   "outputs": [
    {
     "data": {
      "application/vnd.microsoft.datawrangler.viewer.v0+json": {
       "columns": [
        {
         "name": "index",
         "rawType": "int64",
         "type": "integer"
        },
        {
         "name": "CustomerID",
         "rawType": "object",
         "type": "string"
        },
        {
         "name": "PurchaseDate",
         "rawType": "datetime64[ns]",
         "type": "datetime"
        },
        {
         "name": "TransactionAmount",
         "rawType": "float64",
         "type": "float"
        },
        {
         "name": "ProductInformation",
         "rawType": "object",
         "type": "string"
        },
        {
         "name": "OrderID",
         "rawType": "int64",
         "type": "integer"
        },
        {
         "name": "Location",
         "rawType": "object",
         "type": "string"
        }
       ],
       "conversionMethod": "pd.DataFrame",
       "ref": "5c57d02f-a2e5-4d47-a7b0-5ae4fb5a4958",
       "rows": [
        [
         "0",
         "8814",
         "2023-04-11 00:00:00",
         "943.31",
         "Product C",
         "890075",
         "Tokyo"
        ],
        [
         "1",
         "2188",
         "2023-04-11 00:00:00",
         "463.7",
         "Product A",
         "176819",
         "London"
        ],
        [
         "2",
         "4608",
         "2023-04-11 00:00:00",
         "80.28",
         "Product A",
         "340062",
         "New York"
        ],
        [
         "3",
         "2559",
         "2023-04-11 00:00:00",
         "221.29",
         "Product A",
         "239145",
         "London"
        ],
        [
         "4",
         "9482",
         "2023-04-11 00:00:00",
         "739.56",
         "Product A",
         "194545",
         "Paris"
        ]
       ],
       "shape": {
        "columns": 6,
        "rows": 5
       }
      },
      "text/html": [
       "<div>\n",
       "<style scoped>\n",
       "    .dataframe tbody tr th:only-of-type {\n",
       "        vertical-align: middle;\n",
       "    }\n",
       "\n",
       "    .dataframe tbody tr th {\n",
       "        vertical-align: top;\n",
       "    }\n",
       "\n",
       "    .dataframe thead th {\n",
       "        text-align: right;\n",
       "    }\n",
       "</style>\n",
       "<table border=\"1\" class=\"dataframe\">\n",
       "  <thead>\n",
       "    <tr style=\"text-align: right;\">\n",
       "      <th></th>\n",
       "      <th>CustomerID</th>\n",
       "      <th>PurchaseDate</th>\n",
       "      <th>TransactionAmount</th>\n",
       "      <th>ProductInformation</th>\n",
       "      <th>OrderID</th>\n",
       "      <th>Location</th>\n",
       "    </tr>\n",
       "  </thead>\n",
       "  <tbody>\n",
       "    <tr>\n",
       "      <th>0</th>\n",
       "      <td>8814</td>\n",
       "      <td>2023-04-11</td>\n",
       "      <td>943.31</td>\n",
       "      <td>Product C</td>\n",
       "      <td>890075</td>\n",
       "      <td>Tokyo</td>\n",
       "    </tr>\n",
       "    <tr>\n",
       "      <th>1</th>\n",
       "      <td>2188</td>\n",
       "      <td>2023-04-11</td>\n",
       "      <td>463.70</td>\n",
       "      <td>Product A</td>\n",
       "      <td>176819</td>\n",
       "      <td>London</td>\n",
       "    </tr>\n",
       "    <tr>\n",
       "      <th>2</th>\n",
       "      <td>4608</td>\n",
       "      <td>2023-04-11</td>\n",
       "      <td>80.28</td>\n",
       "      <td>Product A</td>\n",
       "      <td>340062</td>\n",
       "      <td>New York</td>\n",
       "    </tr>\n",
       "    <tr>\n",
       "      <th>3</th>\n",
       "      <td>2559</td>\n",
       "      <td>2023-04-11</td>\n",
       "      <td>221.29</td>\n",
       "      <td>Product A</td>\n",
       "      <td>239145</td>\n",
       "      <td>London</td>\n",
       "    </tr>\n",
       "    <tr>\n",
       "      <th>4</th>\n",
       "      <td>9482</td>\n",
       "      <td>2023-04-11</td>\n",
       "      <td>739.56</td>\n",
       "      <td>Product A</td>\n",
       "      <td>194545</td>\n",
       "      <td>Paris</td>\n",
       "    </tr>\n",
       "  </tbody>\n",
       "</table>\n",
       "</div>"
      ],
      "text/plain": [
       "  CustomerID PurchaseDate  TransactionAmount ProductInformation  OrderID  \\\n",
       "0       8814   2023-04-11             943.31          Product C   890075   \n",
       "1       2188   2023-04-11             463.70          Product A   176819   \n",
       "2       4608   2023-04-11              80.28          Product A   340062   \n",
       "3       2559   2023-04-11             221.29          Product A   239145   \n",
       "4       9482   2023-04-11             739.56          Product A   194545   \n",
       "\n",
       "   Location  \n",
       "0     Tokyo  \n",
       "1    London  \n",
       "2  New York  \n",
       "3    London  \n",
       "4     Paris  "
      ]
     },
     "execution_count": 152,
     "metadata": {},
     "output_type": "execute_result"
    }
   ],
   "source": [
    "#convert CustomerID to string\n",
    "df['CustomerID'] = df['CustomerID'].astype(str)\n",
    "\n",
    "#convert PurchaseDate to datetime\n",
    "df['PurchaseDate'] = pd.to_datetime(df['PurchaseDate'])\n",
    "\n",
    "#check for null values\n",
    "df.isnull().sum()\n",
    "\n",
    "#check for duplicates\n",
    "df.drop_duplicates(inplace=True)\n",
    "\n",
    "df.head()"
   ]
  },
  {
   "cell_type": "code",
   "execution_count": 153,
   "id": "089f7814",
   "metadata": {},
   "outputs": [],
   "source": [
    "# I will define the analysis date as the max date in the dataset\n",
    "analysis_date = df['PurchaseDate'].max()"
   ]
  },
  {
   "cell_type": "markdown",
   "id": "ed170ce0",
   "metadata": {},
   "source": [
    "##  **Calculating The RFM Values:**\n"
   ]
  },
  {
   "cell_type": "markdown",
   "id": "7c73b79d",
   "metadata": {},
   "source": [
    "-   What is Recency (R)?\n",
    "\n",
    "    -   Definition: How recently a customer made a purchase.\n",
    "\n",
    "    -   Purpose: Customers who bought something more recently are more likely to respond to promotions or return to buy again.\n",
    "\n",
    "    -   Example: If Customer A bought something yesterday and Customer B bought something 3 months ago, Customer A has a better Recency score."
   ]
  },
  {
   "cell_type": "markdown",
   "id": "64b31c53",
   "metadata": {},
   "source": [
    "-   What's Frequency (F)?\n",
    "    -    Definition: How often a customer makes purchases in a given period.\n",
    "\n",
    "    -   Purpose: Frequent buyers are usually more loyal and more engaged with your brand.\n",
    "\n",
    "    -    Example: If Customer A made 10 purchases this year and Customer B made 2, Customer A has a higher Frequency score."
   ]
  },
  {
   "cell_type": "markdown",
   "id": "0f6c8fe6",
   "metadata": {},
   "source": [
    "-   What's Monetary (M)?\n",
    "    -   Definition: How much money a customer has spent.\n",
    "\n",
    "    -   Purpose: High-spending customers are more valuable to your business.\n",
    "\n",
    "    -   Example: If Customer A has spent $1,000 in total and Customer B has spent $200, Customer A scores higher on Monetary."
   ]
  },
  {
   "cell_type": "code",
   "execution_count": 154,
   "id": "e5a1d7d9",
   "metadata": {},
   "outputs": [
    {
     "data": {
      "application/vnd.microsoft.datawrangler.viewer.v0+json": {
       "columns": [
        {
         "name": "index",
         "rawType": "int64",
         "type": "integer"
        },
        {
         "name": "CustomerID",
         "rawType": "object",
         "type": "string"
        },
        {
         "name": "Recency",
         "rawType": "int64",
         "type": "integer"
        }
       ],
       "conversionMethod": "pd.DataFrame",
       "ref": "279b47c5-5b3b-4289-9588-8502b073c625",
       "rows": [
        [
         "0",
         "1011",
         "33"
        ],
        [
         "1",
         "1025",
         "21"
        ],
        [
         "2",
         "1029",
         "0"
        ],
        [
         "3",
         "1046",
         "43"
        ],
        [
         "4",
         "1049",
         "13"
        ]
       ],
       "shape": {
        "columns": 2,
        "rows": 5
       }
      },
      "text/html": [
       "<div>\n",
       "<style scoped>\n",
       "    .dataframe tbody tr th:only-of-type {\n",
       "        vertical-align: middle;\n",
       "    }\n",
       "\n",
       "    .dataframe tbody tr th {\n",
       "        vertical-align: top;\n",
       "    }\n",
       "\n",
       "    .dataframe thead th {\n",
       "        text-align: right;\n",
       "    }\n",
       "</style>\n",
       "<table border=\"1\" class=\"dataframe\">\n",
       "  <thead>\n",
       "    <tr style=\"text-align: right;\">\n",
       "      <th></th>\n",
       "      <th>CustomerID</th>\n",
       "      <th>Recency</th>\n",
       "    </tr>\n",
       "  </thead>\n",
       "  <tbody>\n",
       "    <tr>\n",
       "      <th>0</th>\n",
       "      <td>1011</td>\n",
       "      <td>33</td>\n",
       "    </tr>\n",
       "    <tr>\n",
       "      <th>1</th>\n",
       "      <td>1025</td>\n",
       "      <td>21</td>\n",
       "    </tr>\n",
       "    <tr>\n",
       "      <th>2</th>\n",
       "      <td>1029</td>\n",
       "      <td>0</td>\n",
       "    </tr>\n",
       "    <tr>\n",
       "      <th>3</th>\n",
       "      <td>1046</td>\n",
       "      <td>43</td>\n",
       "    </tr>\n",
       "    <tr>\n",
       "      <th>4</th>\n",
       "      <td>1049</td>\n",
       "      <td>13</td>\n",
       "    </tr>\n",
       "  </tbody>\n",
       "</table>\n",
       "</div>"
      ],
      "text/plain": [
       "  CustomerID  Recency\n",
       "0       1011       33\n",
       "1       1025       21\n",
       "2       1029        0\n",
       "3       1046       43\n",
       "4       1049       13"
      ]
     },
     "execution_count": 154,
     "metadata": {},
     "output_type": "execute_result"
    }
   ],
   "source": [
    "# create a df to calculate the recency\n",
    "recency_df = df.groupby('CustomerID')['PurchaseDate'].max().reset_index()\n",
    "recency_df['Recency'] =  (analysis_date - recency_df['PurchaseDate']).dt.days\n",
    "recency_df.drop('PurchaseDate', axis=1, inplace=True)\n",
    "recency_df.head()"
   ]
  },
  {
   "cell_type": "code",
   "execution_count": 155,
   "id": "cbd8365e",
   "metadata": {},
   "outputs": [
    {
     "data": {
      "application/vnd.microsoft.datawrangler.viewer.v0+json": {
       "columns": [
        {
         "name": "index",
         "rawType": "int64",
         "type": "integer"
        },
        {
         "name": "CustomerID",
         "rawType": "object",
         "type": "string"
        },
        {
         "name": "Frequency",
         "rawType": "int64",
         "type": "integer"
        }
       ],
       "conversionMethod": "pd.DataFrame",
       "ref": "efb79859-2d88-4f14-9212-44cfb218a75e",
       "rows": [
        [
         "0",
         "1011",
         "2"
        ],
        [
         "1",
         "1025",
         "1"
        ],
        [
         "2",
         "1029",
         "1"
        ],
        [
         "3",
         "1046",
         "1"
        ],
        [
         "4",
         "1049",
         "1"
        ]
       ],
       "shape": {
        "columns": 2,
        "rows": 5
       }
      },
      "text/html": [
       "<div>\n",
       "<style scoped>\n",
       "    .dataframe tbody tr th:only-of-type {\n",
       "        vertical-align: middle;\n",
       "    }\n",
       "\n",
       "    .dataframe tbody tr th {\n",
       "        vertical-align: top;\n",
       "    }\n",
       "\n",
       "    .dataframe thead th {\n",
       "        text-align: right;\n",
       "    }\n",
       "</style>\n",
       "<table border=\"1\" class=\"dataframe\">\n",
       "  <thead>\n",
       "    <tr style=\"text-align: right;\">\n",
       "      <th></th>\n",
       "      <th>CustomerID</th>\n",
       "      <th>Frequency</th>\n",
       "    </tr>\n",
       "  </thead>\n",
       "  <tbody>\n",
       "    <tr>\n",
       "      <th>0</th>\n",
       "      <td>1011</td>\n",
       "      <td>2</td>\n",
       "    </tr>\n",
       "    <tr>\n",
       "      <th>1</th>\n",
       "      <td>1025</td>\n",
       "      <td>1</td>\n",
       "    </tr>\n",
       "    <tr>\n",
       "      <th>2</th>\n",
       "      <td>1029</td>\n",
       "      <td>1</td>\n",
       "    </tr>\n",
       "    <tr>\n",
       "      <th>3</th>\n",
       "      <td>1046</td>\n",
       "      <td>1</td>\n",
       "    </tr>\n",
       "    <tr>\n",
       "      <th>4</th>\n",
       "      <td>1049</td>\n",
       "      <td>1</td>\n",
       "    </tr>\n",
       "  </tbody>\n",
       "</table>\n",
       "</div>"
      ],
      "text/plain": [
       "  CustomerID  Frequency\n",
       "0       1011          2\n",
       "1       1025          1\n",
       "2       1029          1\n",
       "3       1046          1\n",
       "4       1049          1"
      ]
     },
     "execution_count": 155,
     "metadata": {},
     "output_type": "execute_result"
    }
   ],
   "source": [
    "# Frequency: Number of transactions per customer\n",
    "frequency_df = df.groupby('CustomerID')['OrderID'].count().reset_index().rename(columns={'OrderID': 'Frequency'})\n",
    "frequency_df.head()"
   ]
  },
  {
   "cell_type": "code",
   "execution_count": 156,
   "id": "5f904c7d",
   "metadata": {},
   "outputs": [
    {
     "data": {
      "application/vnd.microsoft.datawrangler.viewer.v0+json": {
       "columns": [
        {
         "name": "index",
         "rawType": "int64",
         "type": "integer"
        },
        {
         "name": "CustomerID",
         "rawType": "object",
         "type": "string"
        },
        {
         "name": "Monetary",
         "rawType": "float64",
         "type": "float"
        }
       ],
       "conversionMethod": "pd.DataFrame",
       "ref": "4b1f92e5-b91c-4b92-b138-ae81cda1925d",
       "rows": [
        [
         "0",
         "1011",
         "1129.02"
        ],
        [
         "1",
         "1025",
         "359.29"
        ],
        [
         "2",
         "1029",
         "704.99"
        ],
        [
         "3",
         "1046",
         "859.82"
        ],
        [
         "4",
         "1049",
         "225.72"
        ]
       ],
       "shape": {
        "columns": 2,
        "rows": 5
       }
      },
      "text/html": [
       "<div>\n",
       "<style scoped>\n",
       "    .dataframe tbody tr th:only-of-type {\n",
       "        vertical-align: middle;\n",
       "    }\n",
       "\n",
       "    .dataframe tbody tr th {\n",
       "        vertical-align: top;\n",
       "    }\n",
       "\n",
       "    .dataframe thead th {\n",
       "        text-align: right;\n",
       "    }\n",
       "</style>\n",
       "<table border=\"1\" class=\"dataframe\">\n",
       "  <thead>\n",
       "    <tr style=\"text-align: right;\">\n",
       "      <th></th>\n",
       "      <th>CustomerID</th>\n",
       "      <th>Monetary</th>\n",
       "    </tr>\n",
       "  </thead>\n",
       "  <tbody>\n",
       "    <tr>\n",
       "      <th>0</th>\n",
       "      <td>1011</td>\n",
       "      <td>1129.02</td>\n",
       "    </tr>\n",
       "    <tr>\n",
       "      <th>1</th>\n",
       "      <td>1025</td>\n",
       "      <td>359.29</td>\n",
       "    </tr>\n",
       "    <tr>\n",
       "      <th>2</th>\n",
       "      <td>1029</td>\n",
       "      <td>704.99</td>\n",
       "    </tr>\n",
       "    <tr>\n",
       "      <th>3</th>\n",
       "      <td>1046</td>\n",
       "      <td>859.82</td>\n",
       "    </tr>\n",
       "    <tr>\n",
       "      <th>4</th>\n",
       "      <td>1049</td>\n",
       "      <td>225.72</td>\n",
       "    </tr>\n",
       "  </tbody>\n",
       "</table>\n",
       "</div>"
      ],
      "text/plain": [
       "  CustomerID  Monetary\n",
       "0       1011   1129.02\n",
       "1       1025    359.29\n",
       "2       1029    704.99\n",
       "3       1046    859.82\n",
       "4       1049    225.72"
      ]
     },
     "execution_count": 156,
     "metadata": {},
     "output_type": "execute_result"
    }
   ],
   "source": [
    "# Monetary: Total transaction amount per customer\n",
    "monetary_df = df.groupby('CustomerID')['TransactionAmount'].sum().reset_index().rename(columns={'TransactionAmount': 'Monetary'})\n",
    "\n",
    "monetary_df.head()"
   ]
  },
  {
   "cell_type": "code",
   "execution_count": 157,
   "id": "61957344",
   "metadata": {},
   "outputs": [
    {
     "data": {
      "application/vnd.microsoft.datawrangler.viewer.v0+json": {
       "columns": [
        {
         "name": "index",
         "rawType": "int64",
         "type": "integer"
        },
        {
         "name": "CustomerID",
         "rawType": "object",
         "type": "string"
        },
        {
         "name": "Recency",
         "rawType": "int64",
         "type": "integer"
        },
        {
         "name": "Frequency",
         "rawType": "int64",
         "type": "integer"
        },
        {
         "name": "Monetary",
         "rawType": "float64",
         "type": "float"
        }
       ],
       "conversionMethod": "pd.DataFrame",
       "ref": "7a59f05e-d2f0-4ba6-832a-d12163ecda4c",
       "rows": [
        [
         "0",
         "1011",
         "33",
         "2",
         "1129.02"
        ],
        [
         "1",
         "1025",
         "21",
         "1",
         "359.29"
        ],
        [
         "2",
         "1029",
         "0",
         "1",
         "704.99"
        ],
        [
         "3",
         "1046",
         "43",
         "1",
         "859.82"
        ],
        [
         "4",
         "1049",
         "13",
         "1",
         "225.72"
        ]
       ],
       "shape": {
        "columns": 4,
        "rows": 5
       }
      },
      "text/html": [
       "<div>\n",
       "<style scoped>\n",
       "    .dataframe tbody tr th:only-of-type {\n",
       "        vertical-align: middle;\n",
       "    }\n",
       "\n",
       "    .dataframe tbody tr th {\n",
       "        vertical-align: top;\n",
       "    }\n",
       "\n",
       "    .dataframe thead th {\n",
       "        text-align: right;\n",
       "    }\n",
       "</style>\n",
       "<table border=\"1\" class=\"dataframe\">\n",
       "  <thead>\n",
       "    <tr style=\"text-align: right;\">\n",
       "      <th></th>\n",
       "      <th>CustomerID</th>\n",
       "      <th>Recency</th>\n",
       "      <th>Frequency</th>\n",
       "      <th>Monetary</th>\n",
       "    </tr>\n",
       "  </thead>\n",
       "  <tbody>\n",
       "    <tr>\n",
       "      <th>0</th>\n",
       "      <td>1011</td>\n",
       "      <td>33</td>\n",
       "      <td>2</td>\n",
       "      <td>1129.02</td>\n",
       "    </tr>\n",
       "    <tr>\n",
       "      <th>1</th>\n",
       "      <td>1025</td>\n",
       "      <td>21</td>\n",
       "      <td>1</td>\n",
       "      <td>359.29</td>\n",
       "    </tr>\n",
       "    <tr>\n",
       "      <th>2</th>\n",
       "      <td>1029</td>\n",
       "      <td>0</td>\n",
       "      <td>1</td>\n",
       "      <td>704.99</td>\n",
       "    </tr>\n",
       "    <tr>\n",
       "      <th>3</th>\n",
       "      <td>1046</td>\n",
       "      <td>43</td>\n",
       "      <td>1</td>\n",
       "      <td>859.82</td>\n",
       "    </tr>\n",
       "    <tr>\n",
       "      <th>4</th>\n",
       "      <td>1049</td>\n",
       "      <td>13</td>\n",
       "      <td>1</td>\n",
       "      <td>225.72</td>\n",
       "    </tr>\n",
       "  </tbody>\n",
       "</table>\n",
       "</div>"
      ],
      "text/plain": [
       "  CustomerID  Recency  Frequency  Monetary\n",
       "0       1011       33          2   1129.02\n",
       "1       1025       21          1    359.29\n",
       "2       1029        0          1    704.99\n",
       "3       1046       43          1    859.82\n",
       "4       1049       13          1    225.72"
      ]
     },
     "execution_count": 157,
     "metadata": {},
     "output_type": "execute_result"
    }
   ],
   "source": [
    "# Merge RFM metrics\n",
    "rfm_df = recency_df.merge(frequency_df, on='CustomerID').merge(monetary_df, on='CustomerID')\n",
    "rfm_df.head()"
   ]
  },
  {
   "cell_type": "markdown",
   "id": "56ce5982",
   "metadata": {},
   "source": [
    "-   Now let's categorizes customers based on Recency, Frequency, and Monetary values using scoring systems. Recency is ranked inversely (lower is better), while Frequency and Monetary values are ranked positively (higher is better). It assigns scores from 1 to 5, converts them into integers, and prepares the data for further RFM analysis\n"
   ]
  },
  {
   "cell_type": "code",
   "execution_count": 158,
   "id": "ca8773c7",
   "metadata": {},
   "outputs": [
    {
     "data": {
      "application/vnd.microsoft.datawrangler.viewer.v0+json": {
       "columns": [
        {
         "name": "index",
         "rawType": "int64",
         "type": "integer"
        },
        {
         "name": "CustomerID",
         "rawType": "object",
         "type": "string"
        },
        {
         "name": "Recency",
         "rawType": "int64",
         "type": "integer"
        },
        {
         "name": "Frequency",
         "rawType": "int64",
         "type": "integer"
        },
        {
         "name": "Monetary",
         "rawType": "float64",
         "type": "float"
        },
        {
         "name": "R_Score",
         "rawType": "int32",
         "type": "integer"
        },
        {
         "name": "F_Score",
         "rawType": "int32",
         "type": "integer"
        },
        {
         "name": "M_Score",
         "rawType": "int32",
         "type": "integer"
        }
       ],
       "conversionMethod": "pd.DataFrame",
       "ref": "e182e6d7-df85-47b8-90dd-02c3e1acfd0f",
       "rows": [
        [
         "0",
         "1011",
         "33",
         "2",
         "1129.02",
         "3",
         "3",
         "5"
        ],
        [
         "1",
         "1025",
         "21",
         "1",
         "359.29",
         "4",
         "1",
         "2"
        ],
        [
         "2",
         "1029",
         "0",
         "1",
         "704.99",
         "5",
         "1",
         "4"
        ],
        [
         "3",
         "1046",
         "43",
         "1",
         "859.82",
         "2",
         "1",
         "5"
        ],
        [
         "4",
         "1049",
         "13",
         "1",
         "225.72",
         "4",
         "1",
         "2"
        ]
       ],
       "shape": {
        "columns": 7,
        "rows": 5
       }
      },
      "text/html": [
       "<div>\n",
       "<style scoped>\n",
       "    .dataframe tbody tr th:only-of-type {\n",
       "        vertical-align: middle;\n",
       "    }\n",
       "\n",
       "    .dataframe tbody tr th {\n",
       "        vertical-align: top;\n",
       "    }\n",
       "\n",
       "    .dataframe thead th {\n",
       "        text-align: right;\n",
       "    }\n",
       "</style>\n",
       "<table border=\"1\" class=\"dataframe\">\n",
       "  <thead>\n",
       "    <tr style=\"text-align: right;\">\n",
       "      <th></th>\n",
       "      <th>CustomerID</th>\n",
       "      <th>Recency</th>\n",
       "      <th>Frequency</th>\n",
       "      <th>Monetary</th>\n",
       "      <th>R_Score</th>\n",
       "      <th>F_Score</th>\n",
       "      <th>M_Score</th>\n",
       "    </tr>\n",
       "  </thead>\n",
       "  <tbody>\n",
       "    <tr>\n",
       "      <th>0</th>\n",
       "      <td>1011</td>\n",
       "      <td>33</td>\n",
       "      <td>2</td>\n",
       "      <td>1129.02</td>\n",
       "      <td>3</td>\n",
       "      <td>3</td>\n",
       "      <td>5</td>\n",
       "    </tr>\n",
       "    <tr>\n",
       "      <th>1</th>\n",
       "      <td>1025</td>\n",
       "      <td>21</td>\n",
       "      <td>1</td>\n",
       "      <td>359.29</td>\n",
       "      <td>4</td>\n",
       "      <td>1</td>\n",
       "      <td>2</td>\n",
       "    </tr>\n",
       "    <tr>\n",
       "      <th>2</th>\n",
       "      <td>1029</td>\n",
       "      <td>0</td>\n",
       "      <td>1</td>\n",
       "      <td>704.99</td>\n",
       "      <td>5</td>\n",
       "      <td>1</td>\n",
       "      <td>4</td>\n",
       "    </tr>\n",
       "    <tr>\n",
       "      <th>3</th>\n",
       "      <td>1046</td>\n",
       "      <td>43</td>\n",
       "      <td>1</td>\n",
       "      <td>859.82</td>\n",
       "      <td>2</td>\n",
       "      <td>1</td>\n",
       "      <td>5</td>\n",
       "    </tr>\n",
       "    <tr>\n",
       "      <th>4</th>\n",
       "      <td>1049</td>\n",
       "      <td>13</td>\n",
       "      <td>1</td>\n",
       "      <td>225.72</td>\n",
       "      <td>4</td>\n",
       "      <td>1</td>\n",
       "      <td>2</td>\n",
       "    </tr>\n",
       "  </tbody>\n",
       "</table>\n",
       "</div>"
      ],
      "text/plain": [
       "  CustomerID  Recency  Frequency  Monetary  R_Score  F_Score  M_Score\n",
       "0       1011       33          2   1129.02        3        3        5\n",
       "1       1025       21          1    359.29        4        1        2\n",
       "2       1029        0          1    704.99        5        1        4\n",
       "3       1046       43          1    859.82        2        1        5\n",
       "4       1049       13          1    225.72        4        1        2"
      ]
     },
     "execution_count": 158,
     "metadata": {},
     "output_type": "execute_result"
    }
   ],
   "source": [
    "# Recency: Lower is better\n",
    "rfm_df['R_Score'] = pd.qcut(rfm_df['Recency'], q=5, labels=[5, 4, 3, 2, 1])\n",
    "\n",
    "# Frequency: Higher is better\n",
    "rfm_df['F_Score'] = pd.cut(rfm_df['Frequency'], bins=5, labels=[1, 2, 3, 4, 5])\n",
    "\n",
    "# Monetary: Higher is better\n",
    "rfm_df['M_Score'] = pd.qcut(rfm_df['Monetary'], q=5, labels=[1, 2, 3, 4, 5])\n",
    "\n",
    "# Convert scores to integers\n",
    "rfm_df['R_Score'] = rfm_df['R_Score'].astype(int)\n",
    "rfm_df['F_Score'] = rfm_df['F_Score'].astype(int)\n",
    "rfm_df['M_Score'] = rfm_df['M_Score'].astype(int)\n",
    "\n",
    "rfm_df.head()"
   ]
  },
  {
   "cell_type": "code",
   "execution_count": 159,
   "id": "083f811f",
   "metadata": {},
   "outputs": [
    {
     "data": {
      "application/vnd.microsoft.datawrangler.viewer.v0+json": {
       "columns": [
        {
         "name": "index",
         "rawType": "int64",
         "type": "integer"
        },
        {
         "name": "CustomerID",
         "rawType": "object",
         "type": "string"
        },
        {
         "name": "Recency",
         "rawType": "int64",
         "type": "integer"
        },
        {
         "name": "Frequency",
         "rawType": "int64",
         "type": "integer"
        },
        {
         "name": "Monetary",
         "rawType": "float64",
         "type": "float"
        },
        {
         "name": "R_Score",
         "rawType": "int32",
         "type": "integer"
        },
        {
         "name": "F_Score",
         "rawType": "int32",
         "type": "integer"
        },
        {
         "name": "M_Score",
         "rawType": "int32",
         "type": "integer"
        },
        {
         "name": "RFM_Overall",
         "rawType": "int32",
         "type": "integer"
        }
       ],
       "conversionMethod": "pd.DataFrame",
       "ref": "4096817b-a9be-4860-941e-2ea6b37fbf0f",
       "rows": [
        [
         "0",
         "1011",
         "33",
         "2",
         "1129.02",
         "3",
         "3",
         "5",
         "11"
        ],
        [
         "1",
         "1025",
         "21",
         "1",
         "359.29",
         "4",
         "1",
         "2",
         "7"
        ],
        [
         "2",
         "1029",
         "0",
         "1",
         "704.99",
         "5",
         "1",
         "4",
         "10"
        ],
        [
         "3",
         "1046",
         "43",
         "1",
         "859.82",
         "2",
         "1",
         "5",
         "8"
        ],
        [
         "4",
         "1049",
         "13",
         "1",
         "225.72",
         "4",
         "1",
         "2",
         "7"
        ]
       ],
       "shape": {
        "columns": 8,
        "rows": 5
       }
      },
      "text/html": [
       "<div>\n",
       "<style scoped>\n",
       "    .dataframe tbody tr th:only-of-type {\n",
       "        vertical-align: middle;\n",
       "    }\n",
       "\n",
       "    .dataframe tbody tr th {\n",
       "        vertical-align: top;\n",
       "    }\n",
       "\n",
       "    .dataframe thead th {\n",
       "        text-align: right;\n",
       "    }\n",
       "</style>\n",
       "<table border=\"1\" class=\"dataframe\">\n",
       "  <thead>\n",
       "    <tr style=\"text-align: right;\">\n",
       "      <th></th>\n",
       "      <th>CustomerID</th>\n",
       "      <th>Recency</th>\n",
       "      <th>Frequency</th>\n",
       "      <th>Monetary</th>\n",
       "      <th>R_Score</th>\n",
       "      <th>F_Score</th>\n",
       "      <th>M_Score</th>\n",
       "      <th>RFM_Overall</th>\n",
       "    </tr>\n",
       "  </thead>\n",
       "  <tbody>\n",
       "    <tr>\n",
       "      <th>0</th>\n",
       "      <td>1011</td>\n",
       "      <td>33</td>\n",
       "      <td>2</td>\n",
       "      <td>1129.02</td>\n",
       "      <td>3</td>\n",
       "      <td>3</td>\n",
       "      <td>5</td>\n",
       "      <td>11</td>\n",
       "    </tr>\n",
       "    <tr>\n",
       "      <th>1</th>\n",
       "      <td>1025</td>\n",
       "      <td>21</td>\n",
       "      <td>1</td>\n",
       "      <td>359.29</td>\n",
       "      <td>4</td>\n",
       "      <td>1</td>\n",
       "      <td>2</td>\n",
       "      <td>7</td>\n",
       "    </tr>\n",
       "    <tr>\n",
       "      <th>2</th>\n",
       "      <td>1029</td>\n",
       "      <td>0</td>\n",
       "      <td>1</td>\n",
       "      <td>704.99</td>\n",
       "      <td>5</td>\n",
       "      <td>1</td>\n",
       "      <td>4</td>\n",
       "      <td>10</td>\n",
       "    </tr>\n",
       "    <tr>\n",
       "      <th>3</th>\n",
       "      <td>1046</td>\n",
       "      <td>43</td>\n",
       "      <td>1</td>\n",
       "      <td>859.82</td>\n",
       "      <td>2</td>\n",
       "      <td>1</td>\n",
       "      <td>5</td>\n",
       "      <td>8</td>\n",
       "    </tr>\n",
       "    <tr>\n",
       "      <th>4</th>\n",
       "      <td>1049</td>\n",
       "      <td>13</td>\n",
       "      <td>1</td>\n",
       "      <td>225.72</td>\n",
       "      <td>4</td>\n",
       "      <td>1</td>\n",
       "      <td>2</td>\n",
       "      <td>7</td>\n",
       "    </tr>\n",
       "  </tbody>\n",
       "</table>\n",
       "</div>"
      ],
      "text/plain": [
       "  CustomerID  Recency  Frequency  Monetary  R_Score  F_Score  M_Score  \\\n",
       "0       1011       33          2   1129.02        3        3        5   \n",
       "1       1025       21          1    359.29        4        1        2   \n",
       "2       1029        0          1    704.99        5        1        4   \n",
       "3       1046       43          1    859.82        2        1        5   \n",
       "4       1049       13          1    225.72        4        1        2   \n",
       "\n",
       "   RFM_Overall  \n",
       "0           11  \n",
       "1            7  \n",
       "2           10  \n",
       "3            8  \n",
       "4            7  "
      ]
     },
     "execution_count": 159,
     "metadata": {},
     "output_type": "execute_result"
    }
   ],
   "source": [
    "# Overall RFM Score\n",
    "rfm_df['RFM_Overall'] = rfm_df['R_Score'] + rfm_df['F_Score'] + rfm_df['M_Score']\n",
    "rfm_df.head()"
   ]
  },
  {
   "cell_type": "markdown",
   "id": "f323dc12",
   "metadata": {},
   "source": [
    "-   I will classify customers into different segments based on their Recency, Frequency, and Monetary scores. Customers with high values across all metrics are labeled as Champions, while those showing loyalty or frequent spending are categorized accordingly. Recent customers and those at risk of disengagement are also identified, helping businesses tailor their marketing strategies\n"
   ]
  },
  {
   "cell_type": "code",
   "execution_count": 160,
   "id": "2801bb2e",
   "metadata": {},
   "outputs": [
    {
     "data": {
      "application/vnd.microsoft.datawrangler.viewer.v0+json": {
       "columns": [
        {
         "name": "index",
         "rawType": "int64",
         "type": "integer"
        },
        {
         "name": "CustomerID",
         "rawType": "object",
         "type": "string"
        },
        {
         "name": "Recency",
         "rawType": "int64",
         "type": "integer"
        },
        {
         "name": "Frequency",
         "rawType": "int64",
         "type": "integer"
        },
        {
         "name": "Monetary",
         "rawType": "float64",
         "type": "float"
        },
        {
         "name": "R_Score",
         "rawType": "int32",
         "type": "integer"
        },
        {
         "name": "F_Score",
         "rawType": "int32",
         "type": "integer"
        },
        {
         "name": "M_Score",
         "rawType": "int32",
         "type": "integer"
        },
        {
         "name": "RFM_Overall",
         "rawType": "int32",
         "type": "integer"
        },
        {
         "name": "Segment",
         "rawType": "object",
         "type": "string"
        }
       ],
       "conversionMethod": "pd.DataFrame",
       "ref": "5991a862-4164-46e8-a427-ac15a08411cc",
       "rows": [
        [
         "0",
         "1011",
         "33",
         "2",
         "1129.02",
         "3",
         "3",
         "5",
         "11",
         "Loyal Customers"
        ],
        [
         "1",
         "1025",
         "21",
         "1",
         "359.29",
         "4",
         "1",
         "2",
         "7",
         "Potential Loyalists"
        ],
        [
         "2",
         "1029",
         "0",
         "1",
         "704.99",
         "5",
         "1",
         "4",
         "10",
         "Potential Loyalists"
        ],
        [
         "3",
         "1046",
         "43",
         "1",
         "859.82",
         "2",
         "1",
         "5",
         "8",
         "At Risk"
        ],
        [
         "4",
         "1049",
         "13",
         "1",
         "225.72",
         "4",
         "1",
         "2",
         "7",
         "Potential Loyalists"
        ]
       ],
       "shape": {
        "columns": 9,
        "rows": 5
       }
      },
      "text/html": [
       "<div>\n",
       "<style scoped>\n",
       "    .dataframe tbody tr th:only-of-type {\n",
       "        vertical-align: middle;\n",
       "    }\n",
       "\n",
       "    .dataframe tbody tr th {\n",
       "        vertical-align: top;\n",
       "    }\n",
       "\n",
       "    .dataframe thead th {\n",
       "        text-align: right;\n",
       "    }\n",
       "</style>\n",
       "<table border=\"1\" class=\"dataframe\">\n",
       "  <thead>\n",
       "    <tr style=\"text-align: right;\">\n",
       "      <th></th>\n",
       "      <th>CustomerID</th>\n",
       "      <th>Recency</th>\n",
       "      <th>Frequency</th>\n",
       "      <th>Monetary</th>\n",
       "      <th>R_Score</th>\n",
       "      <th>F_Score</th>\n",
       "      <th>M_Score</th>\n",
       "      <th>RFM_Overall</th>\n",
       "      <th>Segment</th>\n",
       "    </tr>\n",
       "  </thead>\n",
       "  <tbody>\n",
       "    <tr>\n",
       "      <th>0</th>\n",
       "      <td>1011</td>\n",
       "      <td>33</td>\n",
       "      <td>2</td>\n",
       "      <td>1129.02</td>\n",
       "      <td>3</td>\n",
       "      <td>3</td>\n",
       "      <td>5</td>\n",
       "      <td>11</td>\n",
       "      <td>Loyal Customers</td>\n",
       "    </tr>\n",
       "    <tr>\n",
       "      <th>1</th>\n",
       "      <td>1025</td>\n",
       "      <td>21</td>\n",
       "      <td>1</td>\n",
       "      <td>359.29</td>\n",
       "      <td>4</td>\n",
       "      <td>1</td>\n",
       "      <td>2</td>\n",
       "      <td>7</td>\n",
       "      <td>Potential Loyalists</td>\n",
       "    </tr>\n",
       "    <tr>\n",
       "      <th>2</th>\n",
       "      <td>1029</td>\n",
       "      <td>0</td>\n",
       "      <td>1</td>\n",
       "      <td>704.99</td>\n",
       "      <td>5</td>\n",
       "      <td>1</td>\n",
       "      <td>4</td>\n",
       "      <td>10</td>\n",
       "      <td>Potential Loyalists</td>\n",
       "    </tr>\n",
       "    <tr>\n",
       "      <th>3</th>\n",
       "      <td>1046</td>\n",
       "      <td>43</td>\n",
       "      <td>1</td>\n",
       "      <td>859.82</td>\n",
       "      <td>2</td>\n",
       "      <td>1</td>\n",
       "      <td>5</td>\n",
       "      <td>8</td>\n",
       "      <td>At Risk</td>\n",
       "    </tr>\n",
       "    <tr>\n",
       "      <th>4</th>\n",
       "      <td>1049</td>\n",
       "      <td>13</td>\n",
       "      <td>1</td>\n",
       "      <td>225.72</td>\n",
       "      <td>4</td>\n",
       "      <td>1</td>\n",
       "      <td>2</td>\n",
       "      <td>7</td>\n",
       "      <td>Potential Loyalists</td>\n",
       "    </tr>\n",
       "  </tbody>\n",
       "</table>\n",
       "</div>"
      ],
      "text/plain": [
       "  CustomerID  Recency  Frequency  Monetary  R_Score  F_Score  M_Score  \\\n",
       "0       1011       33          2   1129.02        3        3        5   \n",
       "1       1025       21          1    359.29        4        1        2   \n",
       "2       1029        0          1    704.99        5        1        4   \n",
       "3       1046       43          1    859.82        2        1        5   \n",
       "4       1049       13          1    225.72        4        1        2   \n",
       "\n",
       "   RFM_Overall              Segment  \n",
       "0           11      Loyal Customers  \n",
       "1            7  Potential Loyalists  \n",
       "2           10  Potential Loyalists  \n",
       "3            8              At Risk  \n",
       "4            7  Potential Loyalists  "
      ]
     },
     "execution_count": 160,
     "metadata": {},
     "output_type": "execute_result"
    }
   ],
   "source": [
    "def rfm_segment(row):\n",
    "    if row['R_Score'] >= 4 and row['F_Score'] >= 4 and row['M_Score'] >= 4:\n",
    "        return 'Champions'\n",
    "    elif row['R_Score'] >= 3 and row['F_Score'] >= 3 and row['M_Score'] >= 3:\n",
    "        return 'Loyal Customers'\n",
    "    elif row['R_Score'] >= 3:\n",
    "        return 'Potential Loyalists'\n",
    "    elif row['F_Score'] >= 3:\n",
    "        return 'Frequent Spenders'\n",
    "    elif row['R_Score'] >= 4:\n",
    "        return 'Recent Customers'\n",
    "    else:\n",
    "        return 'At Risk'\n",
    "\n",
    "rfm_df['Segment'] = rfm_df.apply(rfm_segment, axis=1)\n",
    "\n",
    "rfm_df.head()"
   ]
  },
  {
   "cell_type": "markdown",
   "id": "f0e68366",
   "metadata": {},
   "source": [
    "----"
   ]
  },
  {
   "cell_type": "markdown",
   "id": "e4dbc2b7",
   "metadata": {},
   "source": [
    "##  **RFM Values Distribution:**\n"
   ]
  },
  {
   "cell_type": "markdown",
   "id": "2d84f54f",
   "metadata": {},
   "source": [
    "-   Now let's create histograms to visualize the distribution of Recency, Frequency, and Monetary values. Each subplot shows how these metrics are spread across customers, helping identify trends and skewness. The KDE (Kernel Density Estimation) curve provides insight into the overall shape of the data. \n"
   ]
  },
  {
   "cell_type": "code",
   "execution_count": 161,
   "id": "1994ef48",
   "metadata": {},
   "outputs": [
    {
     "data": {
      "image/png": "[encoded data removed]",
      "text/plain": [
       "<Figure size 1000x400 with 3 Axes>"
      ]
     },
     "metadata": {},
     "output_type": "display_data"
    }
   ],
   "source": [
    "# Distribution of Recency, Frequency, Monetary\n",
    "plt.figure(figsize=(10, 4))\n",
    "plt.subplot(1, 3, 1)\n",
    "sns.histplot(rfm_df['Recency'], kde=True)\n",
    "plt.title('Recency Distribution')\n",
    "\n",
    "plt.subplot(1, 3, 2)\n",
    "sns.histplot(rfm_df['Frequency'], kde=True)\n",
    "plt.title('Frequency Distribution')\n",
    "\n",
    "plt.subplot(1, 3, 3)\n",
    "sns.histplot(rfm_df['Monetary'], kde=True)\n",
    "plt.title('Monetary Distribution')\n",
    "\n",
    "sns.despine()\n",
    "plt.tight_layout()\n",
    "plt.show()\n",
    "\n"
   ]
  },
  {
   "cell_type": "markdown",
   "id": "ecc57eb4",
   "metadata": {},
   "source": [
    "-   **Key Insights:**\n",
    "\n",
    "    * **Recency:** The 'Recency' distribution seems somewhat uniform or even bimodal. Customers have made purchases across a wide range of recent times, with slight peaks around the shorter and longer recency values shown on the x-axis. This suggests a fairly active customer base with different segments in terms of their last purchase date.\n",
    "\n",
    "    * **Frequency:** The 'Frequency' distribution is highly skewed to the right. The vast majority of customers have a purchase frequency of 1. There are very few customers with a frequency greater than 1, and even fewer with frequencies of 2 or 3. This indicates that most customers in this dataset are likely one-time purchasers.\n",
    "\n",
    "    * **Monetary:** The 'Monetary' distribution is also skewed to the right, with a large concentration of customers having lower monetary values. There's a significant peak around the lower spending range, followed by a long tail indicating that a smaller number of customers contribute significantly higher amounts to the total revenue.\n",
    "\n",
    "    In summary, you have a customer base where most people are recent, one-time buyers who spend a relatively small amount. However, there are also segments of customers who made purchases longer ago, and a smaller group of repeat customers and high-spending customers. This suggests opportunities for strategies focused on converting one-time buyers into repeat customers and nurturing the high-value customers.\n",
    "____"
   ]
  },
  {
   "cell_type": "markdown",
   "id": "65f1c24f",
   "metadata": {},
   "source": [
    "-   Let's generates box plots to visualize outliers in the Recency, Frequency, and Monetary metrics. Box plots help identify extreme values, showing the distribution of each variable while highlighting potential anomalies that could impact RFM analysis.\n"
   ]
  },
  {
   "cell_type": "code",
   "execution_count": 162,
   "id": "ede86c4c",
   "metadata": {},
   "outputs": [
    {
     "data": {
      "image/png": "[encoded data removed]",
      "text/plain": [
       "<Figure size 1000x400 with 3 Axes>"
      ]
     },
     "metadata": {},
     "output_type": "display_data"
    }
   ],
   "source": [
    "plt.figure(figsize=(10, 4))\n",
    "\n",
    "plt.subplot(1, 3, 1)\n",
    "sns.boxplot(y=rfm_df['Recency'])\n",
    "plt.title('Recency')\n",
    "\n",
    "plt.subplot(1, 3, 2)\n",
    "sns.boxplot(y=rfm_df['Frequency'])\n",
    "plt.title('Frequency')\n",
    "\n",
    "plt.subplot(1, 3, 3)\n",
    "sns.boxplot(y=rfm_df['Monetary'])\n",
    "plt.title('Monetary')\n",
    "\n",
    "\n",
    "sns.despine()\n",
    "plt.tight_layout()\n",
    "plt.show()"
   ]
  },
  {
   "cell_type": "markdown",
   "id": "1bb2c697",
   "metadata": {},
   "source": [
    "\n",
    "* **Recency:** Most recent purchases fall between roughly 15 and 45, with a median around 30. No major outliers.\n",
    "* **Frequency:** Almost all customers are one-time buyers (frequency of 1), with a few outliers of 2 or 3 purchases.\n",
    "* **Monetary:** Typical spending is between 250 and 750 (median around 500), but there are several high-spending outliers.\n",
    "\n",
    "**Key takeaway:** Mostly recent, one-time buyers with varied spending, including some significant high-value customers."
   ]
  },
  {
   "cell_type": "markdown",
   "id": "8ed1bdeb",
   "metadata": {},
   "source": [
    "----"
   ]
  },
  {
   "cell_type": "markdown",
   "id": "6f2208f0",
   "metadata": {},
   "source": [
    "##  **RFM Score Analysis:**\n"
   ]
  },
  {
   "cell_type": "markdown",
   "id": "8068c627",
   "metadata": {},
   "source": [
    "-   Now let's visualize the distribution of Recency, Frequency, and Monetary scores using count plots. Each plot shows how many customers fall into each score category, helping analyze trends in customer behavior."
   ]
  },
  {
   "cell_type": "code",
   "execution_count": 163,
   "id": "d3544e42",
   "metadata": {},
   "outputs": [
    {
     "data": {
      "image/png": "[encoded data removed]",
      "text/plain": [
       "<Figure size 1000x400 with 3 Axes>"
      ]
     },
     "metadata": {},
     "output_type": "display_data"
    }
   ],
   "source": [
    "# Score distributions\n",
    "fig, axes = plt.subplots(1, 3, figsize=(10, 4))\n",
    "sns.countplot(x='R_Score', data=rfm_df, ax=axes[0], palette='crest')\n",
    "sns.countplot(x='F_Score', data=rfm_df, ax=axes[1], palette='pastel')\n",
    "sns.countplot(x='M_Score', data=rfm_df, ax=axes[2], palette='tab10')\n",
    "\n",
    "axes[0].set_title('Recency Score Distribution')\n",
    "axes[1].set_title('Frequency Score Distribution')\n",
    "axes[2].set_title('Monetary Score Distribution')\n",
    "\n",
    "plt.suptitle('RFM Score Distributions')\n",
    "\n",
    "\n",
    "sns.despine()\n",
    "plt.tight_layout()\n",
    "plt.show()"
   ]
  },
  {
   "cell_type": "markdown",
   "id": "6bbdd749",
   "metadata": {},
   "source": [
    "* **Recency Score:** The distribution across recency scores (1 to 5) is fairly even. This suggests a good mix of customers with different levels of recent activity.\n",
    "\n",
    "* **Frequency Score:** The vast majority of customers have a frequency score of 1. Scores of 3 and 5 have a very small representation. This strongly indicates that most customers are infrequent purchasers.\n",
    "\n",
    "* **Monetary Score:** The distribution across monetary scores (1 to 5) is also quite even. This implies a good mix of customers across different spending tiers.\n",
    "\n",
    "**In short:** You have a balanced distribution of customers based on how recently they purchased and how much they spend. However, most customers are infrequent buyers. This highlights an opportunity to focus on strategies that encourage repeat purchases.\n",
    "\n",
    "_____"
   ]
  },
  {
   "cell_type": "markdown",
   "id": "82a4eca8",
   "metadata": {},
   "source": [
    "-   Now we'll create a correlation heatmap to analyze relationships between Recency, Frequency, and Monetary values. The heatmap visually represents the strength and direction of correlations, helping to identify patterns in customer behavior.\n"
   ]
  },
  {
   "cell_type": "code",
   "execution_count": 164,
   "id": "09e99f49",
   "metadata": {},
   "outputs": [
    {
     "data": {
      "image/png": "[encoded data removed]",
      "text/plain": [
       "<Figure size 600x400 with 2 Axes>"
      ]
     },
     "metadata": {},
     "output_type": "display_data"
    }
   ],
   "source": [
    "# Correlation heatmap\n",
    "plt.figure(figsize=(6, 4))\n",
    "sns.heatmap(rfm_df[['Recency', 'Frequency', 'Monetary']].corr(), \n",
    "            annot=True, \n",
    "            cmap='coolwarm'\n",
    "            \n",
    "            )\n",
    "plt.title('RFM Correlation Matrix', pad=15)\n",
    "\n",
    "plt.tight_layout()\n",
    "plt.show()"
   ]
  },
  {
   "cell_type": "markdown",
   "id": "cde1bcda",
   "metadata": {},
   "source": [
    "* **Recency and Frequency:** There's a very weak negative correlation (-0.097) between Recency and Frequency. This suggests that how recently a customer purchased has a negligible tendency to relate to how often they purchase.\n",
    "\n",
    "* **Recency and Monetary:** Similarly, there's a very weak negative correlation (-0.047) between Recency and Monetary value. This indicates that how recently a customer purchased has almost no linear relationship with how much they've spent in total.\n",
    "\n",
    "* **Frequency and Monetary:** There's a moderate positive correlation (0.41) between Frequency and Monetary value. This is interesting! It implies that customers who purchase more frequently tend to spend more overall. This makes intuitive sense, as repeat purchases accumulate over time.\n",
    "\n",
    "**In brief:**\n",
    "\n",
    "* Recency is pretty independent of both Frequency and Monetary value.\n",
    "* Frequency and Monetary value have a noticeable positive relationship – more frequent buyers tend to be higher spenders."
   ]
  },
  {
   "cell_type": "markdown",
   "id": "caf0e52c",
   "metadata": {},
   "source": [
    "-----"
   ]
  },
  {
   "cell_type": "markdown",
   "id": "6c469185",
   "metadata": {},
   "source": [
    "##  **Segment Analysis:**"
   ]
  },
  {
   "cell_type": "markdown",
   "id": "a0cb095e",
   "metadata": {},
   "source": [
    "-   Let's visualize the distribution of customer segments using a count plot. It sorts the segments by their frequency, making it easier to see which groups have the most customers. The rotated labels improve readability, and the plot helps businesses analyze customer engagement patterns effectively.\n"
   ]
  },
  {
   "cell_type": "code",
   "execution_count": 165,
   "id": "a8c55dbd",
   "metadata": {},
   "outputs": [
    {
     "data": {
      "image/png": "[encoded data removed]",
      "text/plain": [
       "<Figure size 1000x400 with 1 Axes>"
      ]
     },
     "metadata": {},
     "output_type": "display_data"
    }
   ],
   "source": [
    "# Segment distribution\n",
    "plt.figure(figsize=(10, 4))\n",
    "sns.countplot(x='Segment', data=rfm_df, \n",
    "              order=rfm_df['Segment'].value_counts().index\n",
    "              , palette='Set1')\n",
    "\n",
    "\n",
    "plt.title('Customer Segment Distribution')\n",
    "plt.xlabel('Customer Segment')\n",
    "plt.ylabel('Number of Customers')\n",
    "plt.title('Customer Segment Distribution')\n",
    "plt.xticks(rotation=0)\n",
    "\n",
    "\n",
    "sns.despine()\n",
    "plt.tight_layout()\n",
    "plt.show()"
   ]
  },
  {
   "cell_type": "markdown",
   "id": "0219163c",
   "metadata": {},
   "source": [
    "-   **Key Insights**\n",
    "    * **Potential Loyalists:** This is by far the largest segment, with over 500 customers. This group likely represents recent customers with good spending habits but haven't purchased frequently yet. There's a significant opportunity to nurture these customers into loyal ones.\n",
    "\n",
    "    * **At Risk:** This is the second-largest segment, with around 350 customers. These customers likely haven't purchased recently, but they used to be frequent or high-spending. They are in danger of being lost, so re-engagement efforts are crucial.\n",
    "\n",
    "    * **Loyal Customers:** This is a much smaller segment, with just over 25 customers. These customers purchase frequently and recently, but their spending might not be as high as other groups. They are valuable and should be retained.\n",
    "\n",
    "    * **Frequent Spenders:** This is an even smaller segment, with only around 10 customers. These customers purchase frequently and spend a good amount. They are highly valuable.\n",
    "\n",
    "    * **Champions:** This is the smallest segment, with only a handful of customers. These are your best customers – they purchase frequently, recently, and spend the most. They are crucial to your business.\n",
    "    ----------"
   ]
  },
  {
   "cell_type": "markdown",
   "id": "d714c54f",
   "metadata": {},
   "source": [
    "-   Now I'll analyze the average monetary value for each customer segment. It helps businesses understand which segments contribute the most revenue, allowing for better targeting and strategy optimization. The rotated labels improve readability for longer segment names. \n"
   ]
  },
  {
   "cell_type": "code",
   "execution_count": 166,
   "id": "b78e471d",
   "metadata": {},
   "outputs": [
    {
     "data": {
      "image/png": "[encoded data removed]",
      "text/plain": [
       "<Figure size 1000x400 with 1 Axes>"
      ]
     },
     "metadata": {},
     "output_type": "display_data"
    }
   ],
   "source": [
    "# Average Monetary Value by Segment\n",
    "plt.figure(figsize=(10, 4))\n",
    "sns.barplot(data=rfm_df,\n",
    "            x='Segment', \n",
    "            y='Monetary', \n",
    "            palette='Set1',\n",
    "            order=rfm_df.groupby('Segment')['Monetary'].mean().sort_values(ascending=False).index,\n",
    "            ci=None\n",
    "            )\n",
    "\n",
    "\n",
    "plt.title('Average Monetary Value by Segment')\n",
    "plt.xlabel('Customer Segment')\n",
    "plt.ylabel('Average Monetary Value')\n",
    "plt.xticks(rotation=0)\n",
    "\n",
    "\n",
    "\n",
    "sns.despine()\n",
    "plt.tight_layout()\n",
    "plt.show()"
   ]
  },
  {
   "cell_type": "markdown",
   "id": "e44820cb",
   "metadata": {},
   "source": [
    "* **Champions:** This segment has the highest average monetary value, significantly exceeding all other groups. This reinforces that these are your most valuable customers in terms of spending.\n",
    "\n",
    "* **Loyal Customers and Frequent Spenders:** These two segments have a similar and relatively high average monetary value, indicating they contribute significantly to your revenue.\n",
    "\n",
    "* **Potential Loyalists and At Risk:** These segments have the lowest average monetary values among the groups. This suggests that while \"Potential Loyalists\" show promise (as seen in their large number), their individual spending hasn't reached the levels of the other loyal segments yet. The \"At Risk\" group's lower average spending, combined with their inactivity, makes them a key target for re-engagement to potentially boost their value.\n"
   ]
  },
  {
   "cell_type": "code",
   "execution_count": 167,
   "id": "d80b3ee1",
   "metadata": {},
   "outputs": [
    {
     "data": {
      "application/vnd.microsoft.datawrangler.viewer.v0+json": {
       "columns": [
        {
         "name": "index",
         "rawType": "int64",
         "type": "integer"
        },
        {
         "name": "Segment",
         "rawType": "object",
         "type": "string"
        },
        {
         "name": "R_Score",
         "rawType": "float64",
         "type": "float"
        },
        {
         "name": "F_Score",
         "rawType": "float64",
         "type": "float"
        },
        {
         "name": "M_Score",
         "rawType": "float64",
         "type": "float"
        },
        {
         "name": "RFM_Overall",
         "rawType": "float64",
         "type": "float"
        }
       ],
       "conversionMethod": "pd.DataFrame",
       "ref": "129f472c-5a4b-45b5-a22c-20127262caf3",
       "rows": [
        [
         "1",
         "Champions",
         "5.0",
         "5.0",
         "5.0",
         "5.0"
        ],
        [
         "3",
         "Loyal Customers",
         "4.0",
         "3.0555555555555554",
         "4.611111111111111",
         "3.888888888888889"
        ],
        [
         "2",
         "Frequent Spenders",
         "1.8181818181818181",
         "3.1818181818181817",
         "4.454545454545454",
         "3.151515151515151"
        ],
        [
         "4",
         "Potential Loyalists",
         "3.9981751824817517",
         "1.010948905109489",
         "2.937956204379562",
         "2.6490267639902676"
        ],
        [
         "0",
         "At Risk",
         "1.4885714285714287",
         "1.0",
         "2.874285714285714",
         "1.7876190476190477"
        ]
       ],
       "shape": {
        "columns": 5,
        "rows": 5
       }
      },
      "text/html": [
       "<div>\n",
       "<style scoped>\n",
       "    .dataframe tbody tr th:only-of-type {\n",
       "        vertical-align: middle;\n",
       "    }\n",
       "\n",
       "    .dataframe tbody tr th {\n",
       "        vertical-align: top;\n",
       "    }\n",
       "\n",
       "    .dataframe thead th {\n",
       "        text-align: right;\n",
       "    }\n",
       "</style>\n",
       "<table border=\"1\" class=\"dataframe\">\n",
       "  <thead>\n",
       "    <tr style=\"text-align: right;\">\n",
       "      <th></th>\n",
       "      <th>Segment</th>\n",
       "      <th>R_Score</th>\n",
       "      <th>F_Score</th>\n",
       "      <th>M_Score</th>\n",
       "      <th>RFM_Overall</th>\n",
       "    </tr>\n",
       "  </thead>\n",
       "  <tbody>\n",
       "    <tr>\n",
       "      <th>1</th>\n",
       "      <td>Champions</td>\n",
       "      <td>5.000000</td>\n",
       "      <td>5.000000</td>\n",
       "      <td>5.000000</td>\n",
       "      <td>5.000000</td>\n",
       "    </tr>\n",
       "    <tr>\n",
       "      <th>3</th>\n",
       "      <td>Loyal Customers</td>\n",
       "      <td>4.000000</td>\n",
       "      <td>3.055556</td>\n",
       "      <td>4.611111</td>\n",
       "      <td>3.888889</td>\n",
       "    </tr>\n",
       "    <tr>\n",
       "      <th>2</th>\n",
       "      <td>Frequent Spenders</td>\n",
       "      <td>1.818182</td>\n",
       "      <td>3.181818</td>\n",
       "      <td>4.454545</td>\n",
       "      <td>3.151515</td>\n",
       "    </tr>\n",
       "    <tr>\n",
       "      <th>4</th>\n",
       "      <td>Potential Loyalists</td>\n",
       "      <td>3.998175</td>\n",
       "      <td>1.010949</td>\n",
       "      <td>2.937956</td>\n",
       "      <td>2.649027</td>\n",
       "    </tr>\n",
       "    <tr>\n",
       "      <th>0</th>\n",
       "      <td>At Risk</td>\n",
       "      <td>1.488571</td>\n",
       "      <td>1.000000</td>\n",
       "      <td>2.874286</td>\n",
       "      <td>1.787619</td>\n",
       "    </tr>\n",
       "  </tbody>\n",
       "</table>\n",
       "</div>"
      ],
      "text/plain": [
       "               Segment   R_Score   F_Score   M_Score  RFM_Overall\n",
       "1            Champions  5.000000  5.000000  5.000000     5.000000\n",
       "3      Loyal Customers  4.000000  3.055556  4.611111     3.888889\n",
       "2    Frequent Spenders  1.818182  3.181818  4.454545     3.151515\n",
       "4  Potential Loyalists  3.998175  1.010949  2.937956     2.649027\n",
       "0              At Risk  1.488571  1.000000  2.874286     1.787619"
      ]
     },
     "execution_count": 167,
     "metadata": {},
     "output_type": "execute_result"
    }
   ],
   "source": [
    "# Average Recency, Frequency, and Monetary by Segment\n",
    "segment_analysis = rfm_df.groupby('Segment')[['R_Score', 'F_Score', 'M_Score']].mean().reset_index()\n",
    "\n",
    "segment_analysis['RFM_Overall'] = segment_analysis[['R_Score', 'F_Score', 'M_Score']].mean(axis=1)\n",
    "\n",
    "segment_analysis = segment_analysis.sort_values(by='RFM_Overall', ascending=False)\n",
    "segment_analysis"
   ]
  },
  {
   "cell_type": "code",
   "execution_count": 173,
   "id": "985e7629",
   "metadata": {},
   "outputs": [
    {
     "data": {
      "image/png": "[encoded data removed]",
      "text/plain": [
       "<Figure size 1000x400 with 1 Axes>"
      ]
     },
     "metadata": {},
     "output_type": "display_data"
    }
   ],
   "source": [
    "# Melt data for plotting\n",
    "melted = segment_analysis.melt(id_vars='Segment', value_vars=['R_Score', 'F_Score', 'M_Score'], \n",
    "                               var_name='RFM Score', value_name='Score')\n",
    "\n",
    "# Plot\n",
    "plt.figure(figsize=(10, 4))\n",
    "sns.barplot(data=melted,\n",
    "            x='Segment', \n",
    "            y='Score', \n",
    "            hue='RFM Score',  \n",
    "            ci=None,\n",
    "            palette='crest_r'\n",
    "            )\n",
    "plt.xticks(rotation=0)\n",
    "plt.title('Average R/F/M Scores by Segment',)\n",
    "plt.ylabel('Score')\n",
    "\n",
    "\n",
    "plt.legend(ncol=1, loc='upper right', fontsize='small', frameon=False)\n",
    "\n",
    "\n",
    "sns.despine()\n",
    "plt.tight_layout()\n",
    "plt.show()"
   ]
  },
  {
   "cell_type": "markdown",
   "id": "da5becc6",
   "metadata": {},
   "source": [
    "* **Champions:** Top scores (5/5/5) across Recency, Frequency, and Monetary.\n",
    "* **Loyal Customers:** Recent (R=4), moderate frequency (F=3), good spending (M=4.5).\n",
    "* **Frequent Spenders:** Not very recent (R~1.8), high frequency (F~3.2), good spending (M~4.5).\n",
    "* **Potential Loyalists:** Recent (R=4), low frequency (F=1), moderate spending (M=3).\n",
    "* **At Risk:** Low scores across the board (R~1.5, F=1, M~3).\n",
    "\n",
    "**Key takeaway:** Champions are best. Loyal and Frequent Spenders are valuable in different ways. Potential Loyalists need frequency boost. At Risk need re-engagement."
   ]
  },
  {
   "cell_type": "markdown",
   "id": "ec62f07c",
   "metadata": {},
   "source": [
    "----"
   ]
  },
  {
   "cell_type": "markdown",
   "id": "9041fd59",
   "metadata": {},
   "source": [
    "##  **Product by Segment**"
   ]
  },
  {
   "cell_type": "markdown",
   "id": "c2f712b2",
   "metadata": {},
   "source": [
    "-   Now let's analyze each product by customer segment by merging customer segments with the original transaction data, allowing for deeper analysis of purchasing behavior. This helps businesses identify which products are most valuable to specific customer groups.\n"
   ]
  },
  {
   "cell_type": "code",
   "execution_count": 169,
   "id": "509ff1a8",
   "metadata": {},
   "outputs": [
    {
     "data": {
      "application/vnd.microsoft.datawrangler.viewer.v0+json": {
       "columns": [
        {
         "name": "index",
         "rawType": "int64",
         "type": "integer"
        },
        {
         "name": "Segment",
         "rawType": "object",
         "type": "string"
        },
        {
         "name": "ProductInformation",
         "rawType": "object",
         "type": "string"
        },
        {
         "name": "TransactionAmount",
         "rawType": "float64",
         "type": "float"
        }
       ],
       "conversionMethod": "pd.DataFrame",
       "ref": "b8498eaa-42e0-458d-bd08-05eee99aa384",
       "rows": [
        [
         "2",
         "At Risk",
         "Product C",
         "55100.62"
        ],
        [
         "3",
         "At Risk",
         "Product D",
         "45548.56"
        ],
        [
         "0",
         "At Risk",
         "Product A",
         "41062.11"
        ],
        [
         "1",
         "At Risk",
         "Product B",
         "35820.85"
        ],
        [
         "5",
         "Champions",
         "Product D",
         "1508.84"
        ]
       ],
       "shape": {
        "columns": 3,
        "rows": 5
       }
      },
      "text/html": [
       "<div>\n",
       "<style scoped>\n",
       "    .dataframe tbody tr th:only-of-type {\n",
       "        vertical-align: middle;\n",
       "    }\n",
       "\n",
       "    .dataframe tbody tr th {\n",
       "        vertical-align: top;\n",
       "    }\n",
       "\n",
       "    .dataframe thead th {\n",
       "        text-align: right;\n",
       "    }\n",
       "</style>\n",
       "<table border=\"1\" class=\"dataframe\">\n",
       "  <thead>\n",
       "    <tr style=\"text-align: right;\">\n",
       "      <th></th>\n",
       "      <th>Segment</th>\n",
       "      <th>ProductInformation</th>\n",
       "      <th>TransactionAmount</th>\n",
       "    </tr>\n",
       "  </thead>\n",
       "  <tbody>\n",
       "    <tr>\n",
       "      <th>2</th>\n",
       "      <td>At Risk</td>\n",
       "      <td>Product C</td>\n",
       "      <td>55100.62</td>\n",
       "    </tr>\n",
       "    <tr>\n",
       "      <th>3</th>\n",
       "      <td>At Risk</td>\n",
       "      <td>Product D</td>\n",
       "      <td>45548.56</td>\n",
       "    </tr>\n",
       "    <tr>\n",
       "      <th>0</th>\n",
       "      <td>At Risk</td>\n",
       "      <td>Product A</td>\n",
       "      <td>41062.11</td>\n",
       "    </tr>\n",
       "    <tr>\n",
       "      <th>1</th>\n",
       "      <td>At Risk</td>\n",
       "      <td>Product B</td>\n",
       "      <td>35820.85</td>\n",
       "    </tr>\n",
       "    <tr>\n",
       "      <th>5</th>\n",
       "      <td>Champions</td>\n",
       "      <td>Product D</td>\n",
       "      <td>1508.84</td>\n",
       "    </tr>\n",
       "  </tbody>\n",
       "</table>\n",
       "</div>"
      ],
      "text/plain": [
       "     Segment ProductInformation  TransactionAmount\n",
       "2    At Risk          Product C           55100.62\n",
       "3    At Risk          Product D           45548.56\n",
       "0    At Risk          Product A           41062.11\n",
       "1    At Risk          Product B           35820.85\n",
       "5  Champions          Product D            1508.84"
      ]
     },
     "execution_count": 169,
     "metadata": {},
     "output_type": "execute_result"
    }
   ],
   "source": [
    "# let's merge segment data with original transactions\n",
    "segment_products = df.merge(rfm_df[['CustomerID', 'Segment']], on='CustomerID')\n",
    "\n",
    "# now aggregate product sales by segment\n",
    "segment_products = segment_products.groupby(['Segment', 'ProductInformation'])['TransactionAmount'].sum().reset_index()\n",
    "segment_products = segment_products.sort_values(['Segment', 'TransactionAmount'], ascending=[True, False]).round(2)\n",
    "\n",
    "segment_products.head()\n"
   ]
  },
  {
   "cell_type": "code",
   "execution_count": 170,
   "id": "fb07d029",
   "metadata": {},
   "outputs": [
    {
     "data": {
      "application/vnd.microsoft.datawrangler.viewer.v0+json": {
       "columns": [
        {
         "name": "index",
         "rawType": "int64",
         "type": "integer"
        },
        {
         "name": "Segment",
         "rawType": "object",
         "type": "string"
        },
        {
         "name": "Product A",
         "rawType": "float64",
         "type": "float"
        },
        {
         "name": "Product B",
         "rawType": "float64",
         "type": "float"
        },
        {
         "name": "Product C",
         "rawType": "float64",
         "type": "float"
        },
        {
         "name": "Product D",
         "rawType": "float64",
         "type": "float"
        }
       ],
       "conversionMethod": "pd.DataFrame",
       "ref": "08d37176-d3ef-48c2-84cb-6e50959ac33e",
       "rows": [
        [
         "0",
         "At Risk",
         "41062.11",
         "35820.85",
         "55100.62",
         "45548.56"
        ],
        [
         "1",
         "Champions",
         "0.0",
         "870.61",
         "0.0",
         "1508.84"
        ],
        [
         "2",
         "Frequent Spenders",
         "3325.24",
         "3352.57",
         "2055.16",
         "2661.6"
        ],
        [
         "3",
         "Loyal Customers",
         "7123.02",
         "9758.73",
         "15269.76",
         "8119.07"
        ],
        [
         "4",
         "Potential Loyalists",
         "65909.56",
         "73235.32",
         "72065.95",
         "70890.24"
        ]
       ],
       "shape": {
        "columns": 5,
        "rows": 5
       }
      },
      "text/html": [
       "<div>\n",
       "<style scoped>\n",
       "    .dataframe tbody tr th:only-of-type {\n",
       "        vertical-align: middle;\n",
       "    }\n",
       "\n",
       "    .dataframe tbody tr th {\n",
       "        vertical-align: top;\n",
       "    }\n",
       "\n",
       "    .dataframe thead th {\n",
       "        text-align: right;\n",
       "    }\n",
       "</style>\n",
       "<table border=\"1\" class=\"dataframe\">\n",
       "  <thead>\n",
       "    <tr style=\"text-align: right;\">\n",
       "      <th>ProductInformation</th>\n",
       "      <th>Segment</th>\n",
       "      <th>Product A</th>\n",
       "      <th>Product B</th>\n",
       "      <th>Product C</th>\n",
       "      <th>Product D</th>\n",
       "    </tr>\n",
       "  </thead>\n",
       "  <tbody>\n",
       "    <tr>\n",
       "      <th>0</th>\n",
       "      <td>At Risk</td>\n",
       "      <td>41062.11</td>\n",
       "      <td>35820.85</td>\n",
       "      <td>55100.62</td>\n",
       "      <td>45548.56</td>\n",
       "    </tr>\n",
       "    <tr>\n",
       "      <th>1</th>\n",
       "      <td>Champions</td>\n",
       "      <td>0.00</td>\n",
       "      <td>870.61</td>\n",
       "      <td>0.00</td>\n",
       "      <td>1508.84</td>\n",
       "    </tr>\n",
       "    <tr>\n",
       "      <th>2</th>\n",
       "      <td>Frequent Spenders</td>\n",
       "      <td>3325.24</td>\n",
       "      <td>3352.57</td>\n",
       "      <td>2055.16</td>\n",
       "      <td>2661.60</td>\n",
       "    </tr>\n",
       "    <tr>\n",
       "      <th>3</th>\n",
       "      <td>Loyal Customers</td>\n",
       "      <td>7123.02</td>\n",
       "      <td>9758.73</td>\n",
       "      <td>15269.76</td>\n",
       "      <td>8119.07</td>\n",
       "    </tr>\n",
       "    <tr>\n",
       "      <th>4</th>\n",
       "      <td>Potential Loyalists</td>\n",
       "      <td>65909.56</td>\n",
       "      <td>73235.32</td>\n",
       "      <td>72065.95</td>\n",
       "      <td>70890.24</td>\n",
       "    </tr>\n",
       "  </tbody>\n",
       "</table>\n",
       "</div>"
      ],
      "text/plain": [
       "ProductInformation              Segment  Product A  Product B  Product C  \\\n",
       "0                               At Risk   41062.11   35820.85   55100.62   \n",
       "1                             Champions       0.00     870.61       0.00   \n",
       "2                     Frequent Spenders    3325.24    3352.57    2055.16   \n",
       "3                       Loyal Customers    7123.02    9758.73   15269.76   \n",
       "4                   Potential Loyalists   65909.56   73235.32   72065.95   \n",
       "\n",
       "ProductInformation  Product D  \n",
       "0                    45548.56  \n",
       "1                     1508.84  \n",
       "2                     2661.60  \n",
       "3                     8119.07  \n",
       "4                    70890.24  "
      ]
     },
     "execution_count": 170,
     "metadata": {},
     "output_type": "execute_result"
    }
   ],
   "source": [
    "segment_count = segment_products.pivot_table(index='Segment', columns='ProductInformation', values='TransactionAmount', aggfunc='sum')\n",
    "segment_count = segment_count.fillna(0).reset_index()\n",
    "\n",
    "segment_count"
   ]
  },
  {
   "cell_type": "code",
   "execution_count": 171,
   "id": "9dc9dd3a",
   "metadata": {},
   "outputs": [
    {
     "data": {
      "image/png": "[encoded data removed]",
      "text/plain": [
       "<Figure size 1000x400 with 1 Axes>"
      ]
     },
     "metadata": {},
     "output_type": "display_data"
    }
   ],
   "source": [
    "plt.figure(figsize=(10, 4))\n",
    "sns.barplot(data=segment_count.melt(id_vars='Segment').sort_values('value', ascending=False),\n",
    "            x='Segment', \n",
    "            y='value', \n",
    "            hue='ProductInformation', \n",
    "            palette='crest_r'\n",
    "            )\n",
    "plt.title('Product Sales by Segment')\n",
    "plt.xlabel('Customer Segment')\n",
    "plt.ylabel('Total')\n",
    "plt.xticks(rotation=0)\n",
    "plt.legend(loc='upper center', fontsize='small', ncol=4, framealpha=0)\n",
    "\n",
    "sns.despine()\n",
    "plt.tight_layout()\n",
    "plt.show()"
   ]
  },
  {
   "cell_type": "markdown",
   "id": "55e2e52b",
   "metadata": {},
   "source": [
    "\n",
    "* **Potential Loyalists:** Top sales overall (especially B).\n",
    "* **At Risk:** Significant sales (especially C).\n",
    "* **Loyal Customers:** Like Product B.\n",
    "* **Frequent Spenders:** Prefer Product D.\n",
    "* **Champions:** Low individual product sales here.\n",
    "\n",
    "**Key takeaway:** Focus on Potential Loyalists and re-engage At Risk. Tailor product offers to Loyal and Frequent Spenders' preferences."
   ]
  },
  {
   "cell_type": "markdown",
   "id": "8081a248",
   "metadata": {},
   "source": [
    "------"
   ]
  },
  {
   "cell_type": "markdown",
   "id": "b29ca191",
   "metadata": {},
   "source": [
    "\n",
    "In conclusion, RFM analysis is a powerful and insightful method for segmenting customers based on their Recency, Frequency, and Monetary behavior. By analyzing these key metrics, businesses can gain a deeper understanding of their customer base, identify high-value segments, and tailor targeted marketing strategies to improve customer engagement, retention, and ultimately, drive revenue. The visualizations of RFM scores, segment distributions, and spending patterns provide actionable insights for making data-driven decisions."
   ]
  },
  {
   "cell_type": "markdown",
   "id": "be2976df",
   "metadata": {},
   "source": [
    "**Prepared by**     :   Mohamed Fawzi\n",
    "\n",
    "**Email**           :   modyreturn@gmail.com\n",
    "\n",
    "**Github**          :   https://github.com/modyreturn\n"
   ]
  }
 ],
 "metadata": {
  "kernelspec": {
   "display_name": "data_projects",
   "language": "python",
   "name": "python3"
  },
  "language_info": {
   "codemirror_mode": {
    "name": "ipython",
    "version": 3
   },
   "file_extension": ".py",
   "mimetype": "text/x-python",
   "name": "python",
   "nbconvert_exporter": "python",
   "pygments_lexer": "ipython3",
   "version": "3.12.3"
  }
 },
 "nbformat": 4,
 "nbformat_minor": 5
}
